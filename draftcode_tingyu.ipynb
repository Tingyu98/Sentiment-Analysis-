{
 "cells": [
  {
   "cell_type": "code",
   "execution_count": null,
   "id": "61d03c48",
   "metadata": {},
   "outputs": [],
   "source": []
  },
  {
   "cell_type": "markdown",
   "id": "1fa3899e",
   "metadata": {},
   "source": [
    "##### Imports library"
   ]
  },
  {
   "cell_type": "code",
   "execution_count": 6,
   "id": "f2f289ed",
   "metadata": {},
   "outputs": [
    {
     "name": "stdout",
     "output_type": "stream",
     "text": [
      "Requirement already satisfied: seaborn in /Users/tingyu/opt/anaconda3/lib/python3.9/site-packages (0.11.2)\n",
      "Requirement already satisfied: matplotlib in /Users/tingyu/opt/anaconda3/lib/python3.9/site-packages (3.5.1)\n",
      "Requirement already satisfied: geopandas in /Users/tingyu/opt/anaconda3/lib/python3.9/site-packages (0.14.0)\n",
      "Requirement already satisfied: scipy>=1.0 in /Users/tingyu/opt/anaconda3/lib/python3.9/site-packages (from seaborn) (1.11.1)\n",
      "Requirement already satisfied: pandas>=0.23 in /Users/tingyu/opt/anaconda3/lib/python3.9/site-packages (from seaborn) (1.4.2)\n",
      "Requirement already satisfied: numpy>=1.15 in /Users/tingyu/opt/anaconda3/lib/python3.9/site-packages (from seaborn) (1.25.0)\n",
      "Requirement already satisfied: kiwisolver>=1.0.1 in /Users/tingyu/opt/anaconda3/lib/python3.9/site-packages (from matplotlib) (1.3.2)\n",
      "Requirement already satisfied: packaging>=20.0 in /Users/tingyu/opt/anaconda3/lib/python3.9/site-packages (from matplotlib) (21.3)\n",
      "Requirement already satisfied: pyparsing>=2.2.1 in /Users/tingyu/opt/anaconda3/lib/python3.9/site-packages (from matplotlib) (3.0.4)\n",
      "Requirement already satisfied: cycler>=0.10 in /Users/tingyu/opt/anaconda3/lib/python3.9/site-packages (from matplotlib) (0.11.0)\n",
      "Requirement already satisfied: pillow>=6.2.0 in /Users/tingyu/opt/anaconda3/lib/python3.9/site-packages (from matplotlib) (9.5.0)\n",
      "Requirement already satisfied: fonttools>=4.22.0 in /Users/tingyu/opt/anaconda3/lib/python3.9/site-packages (from matplotlib) (4.25.0)\n",
      "Requirement already satisfied: python-dateutil>=2.7 in /Users/tingyu/opt/anaconda3/lib/python3.9/site-packages (from matplotlib) (2.8.2)\n",
      "Requirement already satisfied: fiona>=1.8.21 in /Users/tingyu/opt/anaconda3/lib/python3.9/site-packages (from geopandas) (1.9.5)\n",
      "Requirement already satisfied: pyproj>=3.3.0 in /Users/tingyu/opt/anaconda3/lib/python3.9/site-packages (from geopandas) (3.6.1)\n",
      "Requirement already satisfied: shapely>=1.8.0 in /Users/tingyu/opt/anaconda3/lib/python3.9/site-packages (from geopandas) (2.0.1)\n",
      "Requirement already satisfied: six in /Users/tingyu/opt/anaconda3/lib/python3.9/site-packages (from fiona>=1.8.21->geopandas) (1.16.0)\n",
      "Requirement already satisfied: setuptools in /Users/tingyu/opt/anaconda3/lib/python3.9/site-packages (from fiona>=1.8.21->geopandas) (61.2.0)\n",
      "Requirement already satisfied: click~=8.0 in /Users/tingyu/opt/anaconda3/lib/python3.9/site-packages (from fiona>=1.8.21->geopandas) (8.0.4)\n",
      "Requirement already satisfied: importlib-metadata in /Users/tingyu/opt/anaconda3/lib/python3.9/site-packages (from fiona>=1.8.21->geopandas) (4.11.3)\n",
      "Requirement already satisfied: cligj>=0.5 in /Users/tingyu/opt/anaconda3/lib/python3.9/site-packages (from fiona>=1.8.21->geopandas) (0.7.2)\n",
      "Requirement already satisfied: certifi in /Users/tingyu/opt/anaconda3/lib/python3.9/site-packages (from fiona>=1.8.21->geopandas) (2021.10.8)\n",
      "Requirement already satisfied: click-plugins>=1.0 in /Users/tingyu/opt/anaconda3/lib/python3.9/site-packages (from fiona>=1.8.21->geopandas) (1.1.1)\n",
      "Requirement already satisfied: attrs>=19.2.0 in /Users/tingyu/opt/anaconda3/lib/python3.9/site-packages (from fiona>=1.8.21->geopandas) (21.4.0)\n",
      "Requirement already satisfied: pytz>=2020.1 in /Users/tingyu/opt/anaconda3/lib/python3.9/site-packages (from pandas>=0.23->seaborn) (2021.3)\n",
      "Requirement already satisfied: zipp>=0.5 in /Users/tingyu/opt/anaconda3/lib/python3.9/site-packages (from importlib-metadata->fiona>=1.8.21->geopandas) (3.7.0)\n"
     ]
    }
   ],
   "source": [
    "!pip install seaborn matplotlib geopandas\n",
    "import json\n",
    "import typing\n",
    "import pandas as pd\n",
    "import numpy as np\n",
    "import geopandas as gpd\n",
    "import matplotlib.pyplot as plt\n",
    "import seaborn as sns"
   ]
  },
  {
   "cell_type": "markdown",
   "id": "57d13691",
   "metadata": {},
   "source": [
    "##### Read dataset"
   ]
  },
  {
   "cell_type": "markdown",
   "id": "317d7c04",
   "metadata": {},
   "source": [
    "###### We need to study the number of stars of review and business to express customer satisfaction, so we only need business and review datasets"
   ]
  },
  {
   "cell_type": "code",
   "execution_count": 7,
   "id": "9dc14530",
   "metadata": {},
   "outputs": [],
   "source": [
    "business=pd.read_json(\"/Users/tingyu/Desktop/DATA5100/yelp data/yelp_academic_dataset_business.json\", lines=True)"
   ]
  },
  {
   "cell_type": "code",
   "execution_count": 8,
   "id": "5dd41ac9",
   "metadata": {},
   "outputs": [],
   "source": [
    "review=pd.read_json(\"/Users/tingyu/Desktop/DATA5100/yelp data/yelp_academic_dataset_review.json\", lines=True)"
   ]
  },
  {
   "cell_type": "markdown",
   "id": "6789d9b2",
   "metadata": {},
   "source": [
    "## Data understanding"
   ]
  },
  {
   "cell_type": "code",
   "execution_count": 9,
   "id": "376b3d22",
   "metadata": {},
   "outputs": [
    {
     "data": {
      "text/plain": [
       "(150346, 14)"
      ]
     },
     "execution_count": 9,
     "metadata": {},
     "output_type": "execute_result"
    }
   ],
   "source": [
    "business.shape"
   ]
  },
  {
   "cell_type": "code",
   "execution_count": 10,
   "id": "0973ab1f",
   "metadata": {},
   "outputs": [
    {
     "data": {
      "text/html": [
       "<div>\n",
       "<style scoped>\n",
       "    .dataframe tbody tr th:only-of-type {\n",
       "        vertical-align: middle;\n",
       "    }\n",
       "\n",
       "    .dataframe tbody tr th {\n",
       "        vertical-align: top;\n",
       "    }\n",
       "\n",
       "    .dataframe thead th {\n",
       "        text-align: right;\n",
       "    }\n",
       "</style>\n",
       "<table border=\"1\" class=\"dataframe\">\n",
       "  <thead>\n",
       "    <tr style=\"text-align: right;\">\n",
       "      <th></th>\n",
       "      <th>business_id</th>\n",
       "      <th>name</th>\n",
       "      <th>address</th>\n",
       "      <th>city</th>\n",
       "      <th>state</th>\n",
       "      <th>postal_code</th>\n",
       "      <th>latitude</th>\n",
       "      <th>longitude</th>\n",
       "      <th>stars</th>\n",
       "      <th>review_count</th>\n",
       "      <th>is_open</th>\n",
       "      <th>attributes</th>\n",
       "      <th>categories</th>\n",
       "      <th>hours</th>\n",
       "    </tr>\n",
       "  </thead>\n",
       "  <tbody>\n",
       "    <tr>\n",
       "      <th>0</th>\n",
       "      <td>Pns2l4eNsfO8kk83dixA6A</td>\n",
       "      <td>Abby Rappoport, LAC, CMQ</td>\n",
       "      <td>1616 Chapala St, Ste 2</td>\n",
       "      <td>Santa Barbara</td>\n",
       "      <td>CA</td>\n",
       "      <td>93101</td>\n",
       "      <td>34.426679</td>\n",
       "      <td>-119.711197</td>\n",
       "      <td>5.0</td>\n",
       "      <td>7</td>\n",
       "      <td>0</td>\n",
       "      <td>{'ByAppointmentOnly': 'True'}</td>\n",
       "      <td>Doctors, Traditional Chinese Medicine, Naturop...</td>\n",
       "      <td>None</td>\n",
       "    </tr>\n",
       "    <tr>\n",
       "      <th>1</th>\n",
       "      <td>mpf3x-BjTdTEA3yCZrAYPw</td>\n",
       "      <td>The UPS Store</td>\n",
       "      <td>87 Grasso Plaza Shopping Center</td>\n",
       "      <td>Affton</td>\n",
       "      <td>MO</td>\n",
       "      <td>63123</td>\n",
       "      <td>38.551126</td>\n",
       "      <td>-90.335695</td>\n",
       "      <td>3.0</td>\n",
       "      <td>15</td>\n",
       "      <td>1</td>\n",
       "      <td>{'BusinessAcceptsCreditCards': 'True'}</td>\n",
       "      <td>Shipping Centers, Local Services, Notaries, Ma...</td>\n",
       "      <td>{'Monday': '0:0-0:0', 'Tuesday': '8:0-18:30', ...</td>\n",
       "    </tr>\n",
       "    <tr>\n",
       "      <th>2</th>\n",
       "      <td>tUFrWirKiKi_TAnsVWINQQ</td>\n",
       "      <td>Target</td>\n",
       "      <td>5255 E Broadway Blvd</td>\n",
       "      <td>Tucson</td>\n",
       "      <td>AZ</td>\n",
       "      <td>85711</td>\n",
       "      <td>32.223236</td>\n",
       "      <td>-110.880452</td>\n",
       "      <td>3.5</td>\n",
       "      <td>22</td>\n",
       "      <td>0</td>\n",
       "      <td>{'BikeParking': 'True', 'BusinessAcceptsCredit...</td>\n",
       "      <td>Department Stores, Shopping, Fashion, Home &amp; G...</td>\n",
       "      <td>{'Monday': '8:0-22:0', 'Tuesday': '8:0-22:0', ...</td>\n",
       "    </tr>\n",
       "    <tr>\n",
       "      <th>3</th>\n",
       "      <td>MTSW4McQd7CbVtyjqoe9mw</td>\n",
       "      <td>St Honore Pastries</td>\n",
       "      <td>935 Race St</td>\n",
       "      <td>Philadelphia</td>\n",
       "      <td>PA</td>\n",
       "      <td>19107</td>\n",
       "      <td>39.955505</td>\n",
       "      <td>-75.155564</td>\n",
       "      <td>4.0</td>\n",
       "      <td>80</td>\n",
       "      <td>1</td>\n",
       "      <td>{'RestaurantsDelivery': 'False', 'OutdoorSeati...</td>\n",
       "      <td>Restaurants, Food, Bubble Tea, Coffee &amp; Tea, B...</td>\n",
       "      <td>{'Monday': '7:0-20:0', 'Tuesday': '7:0-20:0', ...</td>\n",
       "    </tr>\n",
       "    <tr>\n",
       "      <th>4</th>\n",
       "      <td>mWMc6_wTdE0EUBKIGXDVfA</td>\n",
       "      <td>Perkiomen Valley Brewery</td>\n",
       "      <td>101 Walnut St</td>\n",
       "      <td>Green Lane</td>\n",
       "      <td>PA</td>\n",
       "      <td>18054</td>\n",
       "      <td>40.338183</td>\n",
       "      <td>-75.471659</td>\n",
       "      <td>4.5</td>\n",
       "      <td>13</td>\n",
       "      <td>1</td>\n",
       "      <td>{'BusinessAcceptsCreditCards': 'True', 'Wheelc...</td>\n",
       "      <td>Brewpubs, Breweries, Food</td>\n",
       "      <td>{'Wednesday': '14:0-22:0', 'Thursday': '16:0-2...</td>\n",
       "    </tr>\n",
       "  </tbody>\n",
       "</table>\n",
       "</div>"
      ],
      "text/plain": [
       "              business_id                      name  \\\n",
       "0  Pns2l4eNsfO8kk83dixA6A  Abby Rappoport, LAC, CMQ   \n",
       "1  mpf3x-BjTdTEA3yCZrAYPw             The UPS Store   \n",
       "2  tUFrWirKiKi_TAnsVWINQQ                    Target   \n",
       "3  MTSW4McQd7CbVtyjqoe9mw        St Honore Pastries   \n",
       "4  mWMc6_wTdE0EUBKIGXDVfA  Perkiomen Valley Brewery   \n",
       "\n",
       "                           address           city state postal_code  \\\n",
       "0           1616 Chapala St, Ste 2  Santa Barbara    CA       93101   \n",
       "1  87 Grasso Plaza Shopping Center         Affton    MO       63123   \n",
       "2             5255 E Broadway Blvd         Tucson    AZ       85711   \n",
       "3                      935 Race St   Philadelphia    PA       19107   \n",
       "4                    101 Walnut St     Green Lane    PA       18054   \n",
       "\n",
       "    latitude   longitude  stars  review_count  is_open  \\\n",
       "0  34.426679 -119.711197    5.0             7        0   \n",
       "1  38.551126  -90.335695    3.0            15        1   \n",
       "2  32.223236 -110.880452    3.5            22        0   \n",
       "3  39.955505  -75.155564    4.0            80        1   \n",
       "4  40.338183  -75.471659    4.5            13        1   \n",
       "\n",
       "                                          attributes  \\\n",
       "0                      {'ByAppointmentOnly': 'True'}   \n",
       "1             {'BusinessAcceptsCreditCards': 'True'}   \n",
       "2  {'BikeParking': 'True', 'BusinessAcceptsCredit...   \n",
       "3  {'RestaurantsDelivery': 'False', 'OutdoorSeati...   \n",
       "4  {'BusinessAcceptsCreditCards': 'True', 'Wheelc...   \n",
       "\n",
       "                                          categories  \\\n",
       "0  Doctors, Traditional Chinese Medicine, Naturop...   \n",
       "1  Shipping Centers, Local Services, Notaries, Ma...   \n",
       "2  Department Stores, Shopping, Fashion, Home & G...   \n",
       "3  Restaurants, Food, Bubble Tea, Coffee & Tea, B...   \n",
       "4                          Brewpubs, Breweries, Food   \n",
       "\n",
       "                                               hours  \n",
       "0                                               None  \n",
       "1  {'Monday': '0:0-0:0', 'Tuesday': '8:0-18:30', ...  \n",
       "2  {'Monday': '8:0-22:0', 'Tuesday': '8:0-22:0', ...  \n",
       "3  {'Monday': '7:0-20:0', 'Tuesday': '7:0-20:0', ...  \n",
       "4  {'Wednesday': '14:0-22:0', 'Thursday': '16:0-2...  "
      ]
     },
     "execution_count": 10,
     "metadata": {},
     "output_type": "execute_result"
    }
   ],
   "source": [
    "business.head()"
   ]
  },
  {
   "cell_type": "code",
   "execution_count": 11,
   "id": "48eba8fd",
   "metadata": {},
   "outputs": [
    {
     "name": "stdout",
     "output_type": "stream",
     "text": [
      "<class 'pandas.core.frame.DataFrame'>\n",
      "RangeIndex: 150346 entries, 0 to 150345\n",
      "Data columns (total 14 columns):\n",
      " #   Column        Non-Null Count   Dtype  \n",
      "---  ------        --------------   -----  \n",
      " 0   business_id   150346 non-null  object \n",
      " 1   name          150346 non-null  object \n",
      " 2   address       150346 non-null  object \n",
      " 3   city          150346 non-null  object \n",
      " 4   state         150346 non-null  object \n",
      " 5   postal_code   150346 non-null  object \n",
      " 6   latitude      150346 non-null  float64\n",
      " 7   longitude     150346 non-null  float64\n",
      " 8   stars         150346 non-null  float64\n",
      " 9   review_count  150346 non-null  int64  \n",
      " 10  is_open       150346 non-null  int64  \n",
      " 11  attributes    136602 non-null  object \n",
      " 12  categories    150243 non-null  object \n",
      " 13  hours         127123 non-null  object \n",
      "dtypes: float64(3), int64(2), object(9)\n",
      "memory usage: 16.1+ MB\n"
     ]
    }
   ],
   "source": [
    "business.info()"
   ]
  },
  {
   "cell_type": "code",
   "execution_count": 12,
   "id": "b236958c",
   "metadata": {},
   "outputs": [
    {
     "data": {
      "text/plain": [
       "(6990280, 9)"
      ]
     },
     "execution_count": 12,
     "metadata": {},
     "output_type": "execute_result"
    }
   ],
   "source": [
    "review.shape"
   ]
  },
  {
   "cell_type": "code",
   "execution_count": 13,
   "id": "5397d202",
   "metadata": {},
   "outputs": [
    {
     "data": {
      "text/html": [
       "<div>\n",
       "<style scoped>\n",
       "    .dataframe tbody tr th:only-of-type {\n",
       "        vertical-align: middle;\n",
       "    }\n",
       "\n",
       "    .dataframe tbody tr th {\n",
       "        vertical-align: top;\n",
       "    }\n",
       "\n",
       "    .dataframe thead th {\n",
       "        text-align: right;\n",
       "    }\n",
       "</style>\n",
       "<table border=\"1\" class=\"dataframe\">\n",
       "  <thead>\n",
       "    <tr style=\"text-align: right;\">\n",
       "      <th></th>\n",
       "      <th>review_id</th>\n",
       "      <th>user_id</th>\n",
       "      <th>business_id</th>\n",
       "      <th>stars</th>\n",
       "      <th>useful</th>\n",
       "      <th>funny</th>\n",
       "      <th>cool</th>\n",
       "      <th>text</th>\n",
       "      <th>date</th>\n",
       "    </tr>\n",
       "  </thead>\n",
       "  <tbody>\n",
       "    <tr>\n",
       "      <th>0</th>\n",
       "      <td>KU_O5udG6zpxOg-VcAEodg</td>\n",
       "      <td>mh_-eMZ6K5RLWhZyISBhwA</td>\n",
       "      <td>XQfwVwDr-v0ZS3_CbbE5Xw</td>\n",
       "      <td>3</td>\n",
       "      <td>0</td>\n",
       "      <td>0</td>\n",
       "      <td>0</td>\n",
       "      <td>If you decide to eat here, just be aware it is...</td>\n",
       "      <td>2018-07-07 22:09:11</td>\n",
       "    </tr>\n",
       "    <tr>\n",
       "      <th>1</th>\n",
       "      <td>BiTunyQ73aT9WBnpR9DZGw</td>\n",
       "      <td>OyoGAe7OKpv6SyGZT5g77Q</td>\n",
       "      <td>7ATYjTIgM3jUlt4UM3IypQ</td>\n",
       "      <td>5</td>\n",
       "      <td>1</td>\n",
       "      <td>0</td>\n",
       "      <td>1</td>\n",
       "      <td>I've taken a lot of spin classes over the year...</td>\n",
       "      <td>2012-01-03 15:28:18</td>\n",
       "    </tr>\n",
       "    <tr>\n",
       "      <th>2</th>\n",
       "      <td>saUsX_uimxRlCVr67Z4Jig</td>\n",
       "      <td>8g_iMtfSiwikVnbP2etR0A</td>\n",
       "      <td>YjUWPpI6HXG530lwP-fb2A</td>\n",
       "      <td>3</td>\n",
       "      <td>0</td>\n",
       "      <td>0</td>\n",
       "      <td>0</td>\n",
       "      <td>Family diner. Had the buffet. Eclectic assortm...</td>\n",
       "      <td>2014-02-05 20:30:30</td>\n",
       "    </tr>\n",
       "    <tr>\n",
       "      <th>3</th>\n",
       "      <td>AqPFMleE6RsU23_auESxiA</td>\n",
       "      <td>_7bHUi9Uuf5__HHc_Q8guQ</td>\n",
       "      <td>kxX2SOes4o-D3ZQBkiMRfA</td>\n",
       "      <td>5</td>\n",
       "      <td>1</td>\n",
       "      <td>0</td>\n",
       "      <td>1</td>\n",
       "      <td>Wow!  Yummy, different,  delicious.   Our favo...</td>\n",
       "      <td>2015-01-04 00:01:03</td>\n",
       "    </tr>\n",
       "    <tr>\n",
       "      <th>4</th>\n",
       "      <td>Sx8TMOWLNuJBWer-0pcmoA</td>\n",
       "      <td>bcjbaE6dDog4jkNY91ncLQ</td>\n",
       "      <td>e4Vwtrqf-wpJfwesgvdgxQ</td>\n",
       "      <td>4</td>\n",
       "      <td>1</td>\n",
       "      <td>0</td>\n",
       "      <td>1</td>\n",
       "      <td>Cute interior and owner (?) gave us tour of up...</td>\n",
       "      <td>2017-01-14 20:54:15</td>\n",
       "    </tr>\n",
       "  </tbody>\n",
       "</table>\n",
       "</div>"
      ],
      "text/plain": [
       "                review_id                 user_id             business_id  \\\n",
       "0  KU_O5udG6zpxOg-VcAEodg  mh_-eMZ6K5RLWhZyISBhwA  XQfwVwDr-v0ZS3_CbbE5Xw   \n",
       "1  BiTunyQ73aT9WBnpR9DZGw  OyoGAe7OKpv6SyGZT5g77Q  7ATYjTIgM3jUlt4UM3IypQ   \n",
       "2  saUsX_uimxRlCVr67Z4Jig  8g_iMtfSiwikVnbP2etR0A  YjUWPpI6HXG530lwP-fb2A   \n",
       "3  AqPFMleE6RsU23_auESxiA  _7bHUi9Uuf5__HHc_Q8guQ  kxX2SOes4o-D3ZQBkiMRfA   \n",
       "4  Sx8TMOWLNuJBWer-0pcmoA  bcjbaE6dDog4jkNY91ncLQ  e4Vwtrqf-wpJfwesgvdgxQ   \n",
       "\n",
       "   stars  useful  funny  cool  \\\n",
       "0      3       0      0     0   \n",
       "1      5       1      0     1   \n",
       "2      3       0      0     0   \n",
       "3      5       1      0     1   \n",
       "4      4       1      0     1   \n",
       "\n",
       "                                                text                date  \n",
       "0  If you decide to eat here, just be aware it is... 2018-07-07 22:09:11  \n",
       "1  I've taken a lot of spin classes over the year... 2012-01-03 15:28:18  \n",
       "2  Family diner. Had the buffet. Eclectic assortm... 2014-02-05 20:30:30  \n",
       "3  Wow!  Yummy, different,  delicious.   Our favo... 2015-01-04 00:01:03  \n",
       "4  Cute interior and owner (?) gave us tour of up... 2017-01-14 20:54:15  "
      ]
     },
     "execution_count": 13,
     "metadata": {},
     "output_type": "execute_result"
    }
   ],
   "source": [
    "review.head()"
   ]
  },
  {
   "cell_type": "code",
   "execution_count": 14,
   "id": "a27e3640",
   "metadata": {},
   "outputs": [
    {
     "name": "stdout",
     "output_type": "stream",
     "text": [
      "<class 'pandas.core.frame.DataFrame'>\n",
      "RangeIndex: 6990280 entries, 0 to 6990279\n",
      "Data columns (total 9 columns):\n",
      " #   Column       Dtype         \n",
      "---  ------       -----         \n",
      " 0   review_id    object        \n",
      " 1   user_id      object        \n",
      " 2   business_id  object        \n",
      " 3   stars        int64         \n",
      " 4   useful       int64         \n",
      " 5   funny        int64         \n",
      " 6   cool         int64         \n",
      " 7   text         object        \n",
      " 8   date         datetime64[ns]\n",
      "dtypes: datetime64[ns](1), int64(4), object(4)\n",
      "memory usage: 480.0+ MB\n"
     ]
    }
   ],
   "source": [
    "review.info()"
   ]
  },
  {
   "cell_type": "markdown",
   "id": "177c5839",
   "metadata": {},
   "source": [
    "##### merage business and review datasets"
   ]
  },
  {
   "cell_type": "code",
   "execution_count": 15,
   "id": "47d4e3e1",
   "metadata": {},
   "outputs": [],
   "source": [
    "df = pd.merge(review, business, on='business_id')\n",
    "#df = review.merge(business, how='inner', on='business_id')"
   ]
  },
  {
   "cell_type": "code",
   "execution_count": 16,
   "id": "f3be7cf6",
   "metadata": {},
   "outputs": [
    {
     "data": {
      "text/plain": [
       "(6990280, 22)"
      ]
     },
     "execution_count": 16,
     "metadata": {},
     "output_type": "execute_result"
    }
   ],
   "source": [
    "df.shape"
   ]
  },
  {
   "cell_type": "markdown",
   "id": "58f8c1fb",
   "metadata": {},
   "source": [
    "##### See which regions our data is sampled from"
   ]
  },
  {
   "cell_type": "code",
   "execution_count": 17,
   "id": "fcd92d0c",
   "metadata": {},
   "outputs": [
    {
     "data": {
      "image/png": "[encoded data removed]",
      "text/plain": [
       "<Figure size 432x288 with 1 Axes>"
      ]
     },
     "metadata": {
      "needs_background": "light"
     },
     "output_type": "display_data"
    }
   ],
   "source": [
    "world = gpd.read_file('/Users/tingyu/Downloads/ne_10m_admin_0_countries_usa/ne_10m_admin_0_countries_usa.shp')\n",
    "\n",
    "# Merge your data with the map\n",
    "gdf = gpd.GeoDataFrame(business, geometry=gpd.points_from_xy(business.longitude, business.latitude))\n",
    "\n",
    "%matplotlib inline\n",
    "\n",
    "# Plot the map and data points\n",
    "ax = world.plot()\n",
    "sns.scatterplot(x='longitude', y='latitude', data=business, color='red', marker='o', s=10, ax=ax)\n",
    "ax.set_xlim(-160, -50)\n",
    "ax.set_ylim(5, 90)\n",
    "\n",
    "\n",
    "plt.show()"
   ]
  },
  {
   "cell_type": "markdown",
   "id": "536d4462",
   "metadata": {},
   "source": [
    "##### Distribution of stars number"
   ]
  },
  {
   "cell_type": "code",
   "execution_count": 18,
   "id": "5e0ff6cc",
   "metadata": {},
   "outputs": [
    {
     "data": {
      "image/png": "[encoded data removed]",
      "text/plain": [
       "<Figure size 432x288 with 1 Axes>"
      ]
     },
     "metadata": {},
     "output_type": "display_data"
    }
   ],
   "source": [
    "sns.set(style=\"whitegrid\")\n",
    "\n",
    "sns.histplot(data=business, x='stars')\n",
    "\n",
    "plt.xlabel('Stars')\n",
    "plt.ylabel('Count')\n",
    "plt.title('Histogram of Star Ratings')\n",
    "plt.show()"
   ]
  },
  {
   "cell_type": "markdown",
   "id": "c14a1b59",
   "metadata": {},
   "source": [
    "## Data preparation"
   ]
  },
  {
   "cell_type": "code",
   "execution_count": 19,
   "id": "90ea1fc8",
   "metadata": {},
   "outputs": [],
   "source": [
    "import nltk\n",
    "import re\n",
    "import spacy\n",
    "sp = spacy.load('en_core_web_sm')"
   ]
  },
  {
   "cell_type": "markdown",
   "id": "bddd809d",
   "metadata": {},
   "source": [
    "#### As this dataset it's a **very heavy** one, let's use only the first 500000 rows and **reduce** the **memory usage** "
   ]
  },
  {
   "cell_type": "code",
   "execution_count": 20,
   "id": "9d6a38f6",
   "metadata": {},
   "outputs": [
    {
     "name": "stdout",
     "output_type": "stream",
     "text": [
      "1261357795\n",
      "(500000, 22)\n"
     ]
    }
   ],
   "source": [
    "df = df.head(500000)\n",
    "print(df.memory_usage(deep=True).sum())\n",
    "print(df.shape)"
   ]
  },
  {
   "cell_type": "markdown",
   "id": "fde25fac",
   "metadata": {},
   "source": [
    "#### **Drop the columns** that we **won't be needing**"
   ]
  },
  {
   "cell_type": "code",
   "execution_count": 21,
   "id": "bb2487c9",
   "metadata": {},
   "outputs": [
    {
     "data": {
      "text/html": [
       "<div>\n",
       "<style scoped>\n",
       "    .dataframe tbody tr th:only-of-type {\n",
       "        vertical-align: middle;\n",
       "    }\n",
       "\n",
       "    .dataframe tbody tr th {\n",
       "        vertical-align: top;\n",
       "    }\n",
       "\n",
       "    .dataframe thead th {\n",
       "        text-align: right;\n",
       "    }\n",
       "</style>\n",
       "<table border=\"1\" class=\"dataframe\">\n",
       "  <thead>\n",
       "    <tr style=\"text-align: right;\">\n",
       "      <th></th>\n",
       "      <th>stars_x</th>\n",
       "      <th>text</th>\n",
       "      <th>categories</th>\n",
       "    </tr>\n",
       "  </thead>\n",
       "  <tbody>\n",
       "    <tr>\n",
       "      <th>0</th>\n",
       "      <td>3</td>\n",
       "      <td>If you decide to eat here, just be aware it is...</td>\n",
       "      <td>Restaurants, Breakfast &amp; Brunch, Food, Juice B...</td>\n",
       "    </tr>\n",
       "    <tr>\n",
       "      <th>1</th>\n",
       "      <td>2</td>\n",
       "      <td>This is the second time we tried turning point...</td>\n",
       "      <td>Restaurants, Breakfast &amp; Brunch, Food, Juice B...</td>\n",
       "    </tr>\n",
       "    <tr>\n",
       "      <th>2</th>\n",
       "      <td>4</td>\n",
       "      <td>The place is cute and the staff was very frien...</td>\n",
       "      <td>Restaurants, Breakfast &amp; Brunch, Food, Juice B...</td>\n",
       "    </tr>\n",
       "    <tr>\n",
       "      <th>3</th>\n",
       "      <td>3</td>\n",
       "      <td>We came on a Saturday morning after waiting a ...</td>\n",
       "      <td>Restaurants, Breakfast &amp; Brunch, Food, Juice B...</td>\n",
       "    </tr>\n",
       "    <tr>\n",
       "      <th>4</th>\n",
       "      <td>2</td>\n",
       "      <td>Mediocre at best. The decor is very nice, and ...</td>\n",
       "      <td>Restaurants, Breakfast &amp; Brunch, Food, Juice B...</td>\n",
       "    </tr>\n",
       "  </tbody>\n",
       "</table>\n",
       "</div>"
      ],
      "text/plain": [
       "   stars_x                                               text  \\\n",
       "0        3  If you decide to eat here, just be aware it is...   \n",
       "1        2  This is the second time we tried turning point...   \n",
       "2        4  The place is cute and the staff was very frien...   \n",
       "3        3  We came on a Saturday morning after waiting a ...   \n",
       "4        2  Mediocre at best. The decor is very nice, and ...   \n",
       "\n",
       "                                          categories  \n",
       "0  Restaurants, Breakfast & Brunch, Food, Juice B...  \n",
       "1  Restaurants, Breakfast & Brunch, Food, Juice B...  \n",
       "2  Restaurants, Breakfast & Brunch, Food, Juice B...  \n",
       "3  Restaurants, Breakfast & Brunch, Food, Juice B...  \n",
       "4  Restaurants, Breakfast & Brunch, Food, Juice B...  "
      ]
     },
     "execution_count": 21,
     "metadata": {},
     "output_type": "execute_result"
    }
   ],
   "source": [
    "# cols_to_drop = ['review_id', 'user_id', 'useful', 'funny', 'cool', 'date', 'business_id'] \n",
    "# df.drop(cols_to_drop, inplace=True)\n",
    "df = df[['stars_x', 'text', 'categories']]\n",
    "df.head()"
   ]
  },
  {
   "cell_type": "markdown",
   "id": "7b5d7513",
   "metadata": {},
   "source": [
    "##### rename column"
   ]
  },
  {
   "cell_type": "code",
   "execution_count": 22,
   "id": "bef51b80",
   "metadata": {},
   "outputs": [],
   "source": [
    "df.rename(columns={'text':'restaurant_reviews', 'stars_x':'stars'}, inplace=True)"
   ]
  },
  {
   "cell_type": "code",
   "execution_count": 23,
   "id": "0fe0c6d6",
   "metadata": {},
   "outputs": [
    {
     "name": "stdout",
     "output_type": "stream",
     "text": [
      "<class 'pandas.core.frame.DataFrame'>\n",
      "Int64Index: 500000 entries, 0 to 499999\n",
      "Data columns (total 3 columns):\n",
      " #   Column              Non-Null Count   Dtype \n",
      "---  ------              --------------   ----- \n",
      " 0   stars               500000 non-null  int64 \n",
      " 1   restaurant_reviews  500000 non-null  object\n",
      " 2   categories          499992 non-null  object\n",
      "dtypes: int64(1), object(2)\n",
      "memory usage: 15.3+ MB\n"
     ]
    }
   ],
   "source": [
    "df.info()"
   ]
  },
  {
   "cell_type": "markdown",
   "id": "cbc67b6b",
   "metadata": {},
   "source": [
    "##### Drop Nan"
   ]
  },
  {
   "cell_type": "code",
   "execution_count": 24,
   "id": "fc677e89",
   "metadata": {},
   "outputs": [],
   "source": [
    "df= df.dropna()"
   ]
  },
  {
   "cell_type": "code",
   "execution_count": 25,
   "id": "bc0c99e9",
   "metadata": {},
   "outputs": [
    {
     "name": "stdout",
     "output_type": "stream",
     "text": [
      "<class 'pandas.core.frame.DataFrame'>\n",
      "Int64Index: 499992 entries, 0 to 499999\n",
      "Data columns (total 3 columns):\n",
      " #   Column              Non-Null Count   Dtype \n",
      "---  ------              --------------   ----- \n",
      " 0   stars               499992 non-null  int64 \n",
      " 1   restaurant_reviews  499992 non-null  object\n",
      " 2   categories          499992 non-null  object\n",
      "dtypes: int64(1), object(2)\n",
      "memory usage: 15.3+ MB\n"
     ]
    }
   ],
   "source": [
    "df.info()"
   ]
  },
  {
   "cell_type": "markdown",
   "id": "e87f71b1",
   "metadata": {},
   "source": [
    "##### We only want to analyze the restaurant category from the business dataset"
   ]
  },
  {
   "cell_type": "code",
   "execution_count": 26,
   "id": "257da475",
   "metadata": {},
   "outputs": [],
   "source": [
    "df = df[df['categories'].str.contains('Restaurant')]"
   ]
  },
  {
   "cell_type": "code",
   "execution_count": 27,
   "id": "fb84a2e7",
   "metadata": {},
   "outputs": [
    {
     "name": "stdout",
     "output_type": "stream",
     "text": [
      "<class 'pandas.core.frame.DataFrame'>\n",
      "Int64Index: 385649 entries, 0 to 499999\n",
      "Data columns (total 3 columns):\n",
      " #   Column              Non-Null Count   Dtype \n",
      "---  ------              --------------   ----- \n",
      " 0   stars               385649 non-null  int64 \n",
      " 1   restaurant_reviews  385649 non-null  object\n",
      " 2   categories          385649 non-null  object\n",
      "dtypes: int64(1), object(2)\n",
      "memory usage: 11.8+ MB\n"
     ]
    }
   ],
   "source": [
    "df.info()"
   ]
  },
  {
   "cell_type": "code",
   "execution_count": 28,
   "id": "f7aca403",
   "metadata": {},
   "outputs": [
    {
     "data": {
      "text/plain": [
       "False"
      ]
     },
     "execution_count": 28,
     "metadata": {},
     "output_type": "execute_result"
    }
   ],
   "source": [
    "# Check if there is NaN values\n",
    "df.isnull().values.any()"
   ]
  },
  {
   "cell_type": "code",
   "execution_count": 29,
   "id": "367a6188",
   "metadata": {},
   "outputs": [
    {
     "data": {
      "text/plain": [
       "(385649, 3)"
      ]
     },
     "execution_count": 29,
     "metadata": {},
     "output_type": "execute_result"
    }
   ],
   "source": [
    "df.shape"
   ]
  },
  {
   "cell_type": "markdown",
   "id": "57642fa1",
   "metadata": {},
   "source": [
    "##### remove duplicate removed "
   ]
  },
  {
   "cell_type": "code",
   "execution_count": 30,
   "id": "f28145bf",
   "metadata": {},
   "outputs": [],
   "source": [
    "df_final = df.drop_duplicates(inplace=False)"
   ]
  },
  {
   "cell_type": "code",
   "execution_count": 31,
   "id": "46ede44d",
   "metadata": {},
   "outputs": [
    {
     "data": {
      "text/plain": [
       "(384980, 3)"
      ]
     },
     "execution_count": 31,
     "metadata": {},
     "output_type": "execute_result"
    }
   ],
   "source": [
    "df_final.shape"
   ]
  },
  {
   "cell_type": "code",
   "execution_count": 32,
   "id": "5f9e7e26",
   "metadata": {},
   "outputs": [
    {
     "name": "stdout",
     "output_type": "stream",
     "text": [
      "<class 'pandas.core.frame.DataFrame'>\n",
      "Int64Index: 339606 entries, 1 to 499999\n",
      "Data columns (total 3 columns):\n",
      " #   Column              Non-Null Count   Dtype \n",
      "---  ------              --------------   ----- \n",
      " 0   stars               339606 non-null  int64 \n",
      " 1   restaurant_reviews  339606 non-null  object\n",
      " 2   categories          339606 non-null  object\n",
      "dtypes: int64(1), object(2)\n",
      "memory usage: 10.4+ MB\n"
     ]
    }
   ],
   "source": [
    "df_final = df_final[(df_final[\"stars\"]!=3)]\n",
    "df_final.head(20)\n",
    "df_final.info()"
   ]
  },
  {
   "cell_type": "code",
   "execution_count": 33,
   "id": "386f7964",
   "metadata": {},
   "outputs": [
    {
     "data": {
      "text/html": [
       "<div>\n",
       "<style scoped>\n",
       "    .dataframe tbody tr th:only-of-type {\n",
       "        vertical-align: middle;\n",
       "    }\n",
       "\n",
       "    .dataframe tbody tr th {\n",
       "        vertical-align: top;\n",
       "    }\n",
       "\n",
       "    .dataframe thead th {\n",
       "        text-align: right;\n",
       "    }\n",
       "</style>\n",
       "<table border=\"1\" class=\"dataframe\">\n",
       "  <thead>\n",
       "    <tr style=\"text-align: right;\">\n",
       "      <th></th>\n",
       "      <th>restaurant_reviews</th>\n",
       "      <th>categories</th>\n",
       "      <th>sentiment</th>\n",
       "    </tr>\n",
       "  </thead>\n",
       "  <tbody>\n",
       "    <tr>\n",
       "      <th>1</th>\n",
       "      <td>This is the second time we tried turning point...</td>\n",
       "      <td>Restaurants, Breakfast &amp; Brunch, Food, Juice B...</td>\n",
       "      <td>0.0</td>\n",
       "    </tr>\n",
       "    <tr>\n",
       "      <th>2</th>\n",
       "      <td>The place is cute and the staff was very frien...</td>\n",
       "      <td>Restaurants, Breakfast &amp; Brunch, Food, Juice B...</td>\n",
       "      <td>1.0</td>\n",
       "    </tr>\n",
       "    <tr>\n",
       "      <th>4</th>\n",
       "      <td>Mediocre at best. The decor is very nice, and ...</td>\n",
       "      <td>Restaurants, Breakfast &amp; Brunch, Food, Juice B...</td>\n",
       "      <td>0.0</td>\n",
       "    </tr>\n",
       "    <tr>\n",
       "      <th>5</th>\n",
       "      <td>When I was shown to my seat of was still wet s...</td>\n",
       "      <td>Restaurants, Breakfast &amp; Brunch, Food, Juice B...</td>\n",
       "      <td>0.0</td>\n",
       "    </tr>\n",
       "    <tr>\n",
       "      <th>7</th>\n",
       "      <td>I went on a Thursday morning for breakfast. St...</td>\n",
       "      <td>Restaurants, Breakfast &amp; Brunch, Food, Juice B...</td>\n",
       "      <td>1.0</td>\n",
       "    </tr>\n",
       "    <tr>\n",
       "      <th>9</th>\n",
       "      <td>The food better be good because the iced coffe...</td>\n",
       "      <td>Restaurants, Breakfast &amp; Brunch, Food, Juice B...</td>\n",
       "      <td>0.0</td>\n",
       "    </tr>\n",
       "    <tr>\n",
       "      <th>10</th>\n",
       "      <td>This place is conveniently located at English ...</td>\n",
       "      <td>Restaurants, Breakfast &amp; Brunch, Food, Juice B...</td>\n",
       "      <td>1.0</td>\n",
       "    </tr>\n",
       "    <tr>\n",
       "      <th>11</th>\n",
       "      <td>\"Who's in the kitchen and why can't they do th...</td>\n",
       "      <td>Restaurants, Breakfast &amp; Brunch, Food, Juice B...</td>\n",
       "      <td>0.0</td>\n",
       "    </tr>\n",
       "    <tr>\n",
       "      <th>12</th>\n",
       "      <td>Hopefully they will find their way but this pr...</td>\n",
       "      <td>Restaurants, Breakfast &amp; Brunch, Food, Juice B...</td>\n",
       "      <td>0.0</td>\n",
       "    </tr>\n",
       "    <tr>\n",
       "      <th>13</th>\n",
       "      <td>Not Impressed at all. Ordered a omelette and b...</td>\n",
       "      <td>Restaurants, Breakfast &amp; Brunch, Food, Juice B...</td>\n",
       "      <td>0.0</td>\n",
       "    </tr>\n",
       "    <tr>\n",
       "      <th>14</th>\n",
       "      <td>never coming back here again. all of the glass...</td>\n",
       "      <td>Restaurants, Breakfast &amp; Brunch, Food, Juice B...</td>\n",
       "      <td>0.0</td>\n",
       "    </tr>\n",
       "    <tr>\n",
       "      <th>15</th>\n",
       "      <td>Went here over the weekend,  got my sugar rush...</td>\n",
       "      <td>Restaurants, Breakfast &amp; Brunch, Food, Juice B...</td>\n",
       "      <td>1.0</td>\n",
       "    </tr>\n",
       "    <tr>\n",
       "      <th>16</th>\n",
       "      <td>This place is delicious. I like how to food is...</td>\n",
       "      <td>Restaurants, Breakfast &amp; Brunch, Food, Juice B...</td>\n",
       "      <td>1.0</td>\n",
       "    </tr>\n",
       "    <tr>\n",
       "      <th>17</th>\n",
       "      <td>I don't recommend this place for breakfast. Th...</td>\n",
       "      <td>Restaurants, Breakfast &amp; Brunch, Food, Juice B...</td>\n",
       "      <td>0.0</td>\n",
       "    </tr>\n",
       "    <tr>\n",
       "      <th>18</th>\n",
       "      <td>Well, lots to say. Managers were busy makin co...</td>\n",
       "      <td>Restaurants, Breakfast &amp; Brunch, Food, Juice B...</td>\n",
       "      <td>0.0</td>\n",
       "    </tr>\n",
       "    <tr>\n",
       "      <th>19</th>\n",
       "      <td>So we live turning point. Warrington is great ...</td>\n",
       "      <td>Restaurants, Breakfast &amp; Brunch, Food, Juice B...</td>\n",
       "      <td>0.0</td>\n",
       "    </tr>\n",
       "    <tr>\n",
       "      <th>22</th>\n",
       "      <td>I was very impressed with Turning Point! My ro...</td>\n",
       "      <td>Restaurants, Breakfast &amp; Brunch, Food, Juice B...</td>\n",
       "      <td>1.0</td>\n",
       "    </tr>\n",
       "    <tr>\n",
       "      <th>23</th>\n",
       "      <td>Excellent food but slow, slow, slow. Staff nee...</td>\n",
       "      <td>Restaurants, Breakfast &amp; Brunch, Food, Juice B...</td>\n",
       "      <td>0.0</td>\n",
       "    </tr>\n",
       "    <tr>\n",
       "      <th>24</th>\n",
       "      <td>Finally had a chance to try Turning Point for ...</td>\n",
       "      <td>Restaurants, Breakfast &amp; Brunch, Food, Juice B...</td>\n",
       "      <td>1.0</td>\n",
       "    </tr>\n",
       "    <tr>\n",
       "      <th>25</th>\n",
       "      <td>My family loves to meet at Turning Point in Mo...</td>\n",
       "      <td>Restaurants, Breakfast &amp; Brunch, Food, Juice B...</td>\n",
       "      <td>1.0</td>\n",
       "    </tr>\n",
       "  </tbody>\n",
       "</table>\n",
       "</div>"
      ],
      "text/plain": [
       "                                   restaurant_reviews  \\\n",
       "1   This is the second time we tried turning point...   \n",
       "2   The place is cute and the staff was very frien...   \n",
       "4   Mediocre at best. The decor is very nice, and ...   \n",
       "5   When I was shown to my seat of was still wet s...   \n",
       "7   I went on a Thursday morning for breakfast. St...   \n",
       "9   The food better be good because the iced coffe...   \n",
       "10  This place is conveniently located at English ...   \n",
       "11  \"Who's in the kitchen and why can't they do th...   \n",
       "12  Hopefully they will find their way but this pr...   \n",
       "13  Not Impressed at all. Ordered a omelette and b...   \n",
       "14  never coming back here again. all of the glass...   \n",
       "15  Went here over the weekend,  got my sugar rush...   \n",
       "16  This place is delicious. I like how to food is...   \n",
       "17  I don't recommend this place for breakfast. Th...   \n",
       "18  Well, lots to say. Managers were busy makin co...   \n",
       "19  So we live turning point. Warrington is great ...   \n",
       "22  I was very impressed with Turning Point! My ro...   \n",
       "23  Excellent food but slow, slow, slow. Staff nee...   \n",
       "24  Finally had a chance to try Turning Point for ...   \n",
       "25  My family loves to meet at Turning Point in Mo...   \n",
       "\n",
       "                                           categories  sentiment  \n",
       "1   Restaurants, Breakfast & Brunch, Food, Juice B...        0.0  \n",
       "2   Restaurants, Breakfast & Brunch, Food, Juice B...        1.0  \n",
       "4   Restaurants, Breakfast & Brunch, Food, Juice B...        0.0  \n",
       "5   Restaurants, Breakfast & Brunch, Food, Juice B...        0.0  \n",
       "7   Restaurants, Breakfast & Brunch, Food, Juice B...        1.0  \n",
       "9   Restaurants, Breakfast & Brunch, Food, Juice B...        0.0  \n",
       "10  Restaurants, Breakfast & Brunch, Food, Juice B...        1.0  \n",
       "11  Restaurants, Breakfast & Brunch, Food, Juice B...        0.0  \n",
       "12  Restaurants, Breakfast & Brunch, Food, Juice B...        0.0  \n",
       "13  Restaurants, Breakfast & Brunch, Food, Juice B...        0.0  \n",
       "14  Restaurants, Breakfast & Brunch, Food, Juice B...        0.0  \n",
       "15  Restaurants, Breakfast & Brunch, Food, Juice B...        1.0  \n",
       "16  Restaurants, Breakfast & Brunch, Food, Juice B...        1.0  \n",
       "17  Restaurants, Breakfast & Brunch, Food, Juice B...        0.0  \n",
       "18  Restaurants, Breakfast & Brunch, Food, Juice B...        0.0  \n",
       "19  Restaurants, Breakfast & Brunch, Food, Juice B...        0.0  \n",
       "22  Restaurants, Breakfast & Brunch, Food, Juice B...        1.0  \n",
       "23  Restaurants, Breakfast & Brunch, Food, Juice B...        0.0  \n",
       "24  Restaurants, Breakfast & Brunch, Food, Juice B...        1.0  \n",
       "25  Restaurants, Breakfast & Brunch, Food, Juice B...        1.0  "
      ]
     },
     "execution_count": 33,
     "metadata": {},
     "output_type": "execute_result"
    }
   ],
   "source": [
    "df_final.loc[df_final['stars'] < 3, 'sentiment'] = 0 \n",
    "df_final.loc[df_final['stars'] > 3, 'sentiment'] = 1\n",
    "df_final.drop('stars', axis=1, inplace=True)\n",
    "df_final.head(20)"
   ]
  },
  {
   "cell_type": "code",
   "execution_count": 34,
   "id": "19351425",
   "metadata": {},
   "outputs": [
    {
     "data": {
      "text/plain": [
       "1.0    265180\n",
       "0.0     74426\n",
       "Name: sentiment, dtype: int64"
      ]
     },
     "execution_count": 34,
     "metadata": {},
     "output_type": "execute_result"
    }
   ],
   "source": [
    "df_final.sentiment.value_counts()"
   ]
  },
  {
   "cell_type": "code",
   "execution_count": 35,
   "id": "ff7dda0d",
   "metadata": {},
   "outputs": [
    {
     "data": {
      "text/plain": [
       "'This is the second time we tried turning point at this location. The first time we had a long wait for food after ordering, this time we had an even longer wait of over 40 minutes. I had the omelette skillet and there was hardly any egg in it, I felt like I was eating chopped onions and chopped tomatoes. My wife had a BLT and had a hard time finding the tomato and the avocado that was supposed be on it. Overall,The experience was stressful, mainly because of the long wait.'"
      ]
     },
     "execution_count": 35,
     "metadata": {},
     "output_type": "execute_result"
    }
   ],
   "source": [
    "reviews = df_final.restaurant_reviews\n",
    "labels = df_final.sentiment\n",
    "reviews[1]"
   ]
  },
  {
   "cell_type": "code",
   "execution_count": 36,
   "id": "c332d91b",
   "metadata": {},
   "outputs": [],
   "source": [
    "labels.replace({1.0: int(1), 0.0: int(0)}, inplace=True)"
   ]
  },
  {
   "cell_type": "code",
   "execution_count": 37,
   "id": "e669b8fe",
   "metadata": {},
   "outputs": [
    {
     "data": {
      "text/plain": [
       "1         0.0\n",
       "2         1.0\n",
       "4         0.0\n",
       "5         0.0\n",
       "7         1.0\n",
       "         ... \n",
       "499993    0.0\n",
       "499995    1.0\n",
       "499996    1.0\n",
       "499997    1.0\n",
       "499999    1.0\n",
       "Name: sentiment, Length: 339606, dtype: float64"
      ]
     },
     "execution_count": 37,
     "metadata": {},
     "output_type": "execute_result"
    }
   ],
   "source": [
    "labels"
   ]
  },
  {
   "cell_type": "code",
   "execution_count": 40,
   "id": "1c47e0e0",
   "metadata": {},
   "outputs": [],
   "source": [
    "sp = spacy.load('en_core_web_sm')\n",
    "stopwords = sp.Defaults.stop_words\n",
    "exclude_stopwords = ['no','not']\n",
    "for word in exclude_stopwords:\n",
    "    stopwords.remove(word)"
   ]
  },
  {
   "cell_type": "code",
   "execution_count": 41,
   "id": "d539a7fa",
   "metadata": {},
   "outputs": [],
   "source": [
    "import re\n",
    "def spacy_process(text):\n",
    "    doc = sp(text)\n",
    "    \n",
    "    # Lemmatization with Spacy\n",
    "    lemma_list = [token.lemma_ for token in doc]\n",
    "\n",
    "    # Filter stopwords, remove non-letters, and convert to lowercase\n",
    "    filtered_sentence = [re.sub(\"[^a-zA-Z]\", \"\", word.lower()) for word in lemma_list if not sp.vocab[word].is_stop]\n",
    "    text_final = \" \".join(filtered_sentence)\n",
    "    \n",
    "    return  \" \".join(text_final.split())"
   ]
  },
  {
   "cell_type": "code",
   "execution_count": 42,
   "id": "3adbf952",
   "metadata": {},
   "outputs": [],
   "source": [
    "df_final['cleaned_reviews'] = df_final['restaurant_reviews'].apply(spacy_process)"
   ]
  },
  {
   "cell_type": "code",
   "execution_count": 43,
   "id": "f44be5b6",
   "metadata": {},
   "outputs": [
    {
     "data": {
      "text/plain": [
       "False"
      ]
     },
     "execution_count": 43,
     "metadata": {},
     "output_type": "execute_result"
    }
   ],
   "source": [
    "df_final.isnull().values.any()"
   ]
  },
  {
   "cell_type": "code",
   "execution_count": 44,
   "id": "38f4f90a",
   "metadata": {},
   "outputs": [],
   "source": [
    "df_final = df_final[['cleaned_reviews','sentiment']]"
   ]
  },
  {
   "cell_type": "markdown",
   "id": "a1a787c3",
   "metadata": {},
   "source": [
    "### Modeling"
   ]
  },
  {
   "cell_type": "code",
   "execution_count": 125,
   "id": "0e22fce4",
   "metadata": {},
   "outputs": [],
   "source": [
    "import torch\n",
    "import torch.nn as nn\n",
    "import torch.optim as optim\n",
    "from torch.utils.data import DataLoader\n",
    "import pandas as pd"
   ]
  },
  {
   "cell_type": "code",
   "execution_count": 126,
   "id": "f4806512",
   "metadata": {},
   "outputs": [],
   "source": [
    "# Seed for same output\n",
    "torch.manual_seed(42)\n",
    "torch.backends.cudnn.benchmark = False\n",
    "torch.backends.cudnn.deterministic = True"
   ]
  },
  {
   "cell_type": "code",
   "execution_count": 127,
   "id": "08ebb16a",
   "metadata": {},
   "outputs": [],
   "source": [
    "# Get data & labels\n",
    "reviews = df_final.cleaned_reviews\n",
    "labels = df_final.sentiment"
   ]
  },
  {
   "cell_type": "code",
   "execution_count": 128,
   "id": "edd6054a",
   "metadata": {},
   "outputs": [],
   "source": [
    "if not isinstance(reviews, pd.Series):\n",
    "    reviews = pd.Series(reviews)\n",
    "\n",
    "if not reviews.index.is_integer():\n",
    "    reviews = reviews.reset_index(drop=True)\n",
    "    \n",
    "if 0 not in reviews.index:\n",
    "    reviews = reviews.reset_index(drop=True)\n",
    "    \n",
    "reviews = reviews.reset_index(drop=True)"
   ]
  },
  {
   "cell_type": "code",
   "execution_count": 129,
   "id": "56dcd33f",
   "metadata": {},
   "outputs": [],
   "source": [
    "if not isinstance(labels, pd.Series):\n",
    "    labels = pd.Series(reviews)\n",
    "\n",
    "if not labels.index.is_integer():\n",
    "    labels = labels.reset_index(drop=True)\n",
    "    \n",
    "if 0 not in labels.index:\n",
    "    labels = labels.reset_index(drop=True)"
   ]
  },
  {
   "cell_type": "code",
   "execution_count": 130,
   "id": "f40e7610",
   "metadata": {},
   "outputs": [],
   "source": [
    "labels.replace({'1': int(1), '0': int(0)}, inplace=True)"
   ]
  },
  {
   "cell_type": "code",
   "execution_count": 131,
   "id": "1ccd4063",
   "metadata": {},
   "outputs": [
    {
     "data": {
      "text/plain": [
       "(339606, 2)"
      ]
     },
     "execution_count": 131,
     "metadata": {},
     "output_type": "execute_result"
    }
   ],
   "source": [
    "df_final.shape"
   ]
  },
  {
   "cell_type": "code",
   "execution_count": 132,
   "id": "723f5668",
   "metadata": {},
   "outputs": [],
   "source": [
    "num_train = 271685\n",
    "num_val = 67921\n",
    "longest_num_tokens = 200"
   ]
  },
  {
   "cell_type": "code",
   "execution_count": 133,
   "id": "82030679",
   "metadata": {},
   "outputs": [],
   "source": [
    "def indexing_tokens():\n",
    "  indices = {'<SOS>':0, '<EOS>': 1, '<PAD>': 2, '<UNK>': 3}\n",
    "  counter = 4\n",
    "  for i in range(num_train):\n",
    "    tokens = reviews[i].split()\n",
    "    for token in tokens:\n",
    "      if token not in indices:\n",
    "        indices[token] = counter\n",
    "        counter += 1\n",
    "  return indices"
   ]
  },
  {
   "cell_type": "code",
   "execution_count": 134,
   "id": "3cd027cf",
   "metadata": {},
   "outputs": [],
   "source": [
    "def get_data(indices, longest_line_tokens, mode='train'):\n",
    "    data = []\n",
    "    Y = []\n",
    "    if mode == 'train':\n",
    "      for i in range(num_train):\n",
    "        one_train_data = []\n",
    "        y, tokens = labels[i], reviews[i].split()\n",
    "        for token in tokens:\n",
    "          one_train_data.append(indices[token])\n",
    "          if len(one_train_data) == longest_line_tokens:\n",
    "            break\n",
    "        while len(one_train_data) < longest_line_tokens:\n",
    "          one_train_data.append(indices['<PAD>'])\n",
    "        one_train_data.insert(indices['<SOS>'], 0)\n",
    "        one_train_data.append(indices['<EOS>'])\n",
    "        data.append(one_train_data)\n",
    "        Y.append(y)\n",
    "    else:\n",
    "      for i in range(num_train, num_train+num_val):\n",
    "        one_val_data = []\n",
    "        y, tokens = labels[i], reviews[i].split()\n",
    "        for token in tokens:\n",
    "          if token not in indices:\n",
    "            one_val_data.append(indices['<UNK>'])\n",
    "          else:\n",
    "            one_val_data.append(indices[token])\n",
    "          if len(one_val_data) == longest_line_tokens:\n",
    "            break\n",
    "        while len(one_val_data) < longest_line_tokens:\n",
    "          one_val_data.append(indices['<PAD>'])\n",
    "        one_val_data.insert(indices['<SOS>'], 0)\n",
    "        one_val_data.append(indices['<EOS>'])\n",
    "        data.append(one_val_data)\n",
    "        Y.append(y)\n",
    "    return data, Y"
   ]
  },
  {
   "cell_type": "code",
   "execution_count": 135,
   "id": "9c43db95",
   "metadata": {},
   "outputs": [],
   "source": [
    "# Loading Training Data & Val Data\n",
    "indices = indexing_tokens()\n",
    "training_data, training_labels = get_data(indices, longest_num_tokens)\n",
    "val_data, val_labels = get_data(indices, longest_num_tokens, mode='val')"
   ]
  },
  {
   "cell_type": "code",
   "execution_count": 136,
   "id": "0b0e8cee",
   "metadata": {},
   "outputs": [
    {
     "name": "stdout",
     "output_type": "stream",
     "text": [
      "Number of training: 271685\n",
      "Number of validation: 67921\n",
      "Length of corpus: 85965\n"
     ]
    }
   ],
   "source": [
    "print('Number of training:', len(training_data))\n",
    "print('Number of validation:', len(val_data))\n",
    "print('Length of corpus:', len(indices))"
   ]
  },
  {
   "cell_type": "code",
   "execution_count": 137,
   "id": "0136f96a",
   "metadata": {},
   "outputs": [
    {
     "name": "stdout",
     "output_type": "stream",
     "text": [
      "<class 'numpy.float64'>\n"
     ]
    }
   ],
   "source": [
    "print(type(training_labels[1]))"
   ]
  },
  {
   "cell_type": "code",
   "execution_count": 138,
   "id": "afd9c53f",
   "metadata": {},
   "outputs": [],
   "source": [
    "# Create tensors of train & val\n",
    "train_tensor = torch.tensor(training_data)\n",
    "train_labels_tensor = torch.tensor(training_labels)\n",
    "val_tensor = torch.tensor(val_data)\n",
    "val_labels_tensor = torch.tensor(training_labels)"
   ]
  },
  {
   "cell_type": "code",
   "execution_count": 139,
   "id": "31793058",
   "metadata": {},
   "outputs": [
    {
     "name": "stdout",
     "output_type": "stream",
     "text": [
      "Train Tensor: torch.Size([271685, 202])\n",
      "Val Tensor: torch.Size([67921, 202])\n"
     ]
    }
   ],
   "source": [
    "print('Train Tensor:', train_tensor.shape)\n",
    "print('Val Tensor:', val_tensor.shape)"
   ]
  },
  {
   "cell_type": "code",
   "execution_count": 140,
   "id": "02e9762e",
   "metadata": {},
   "outputs": [],
   "source": [
    "vocab_size = 85965\n",
    "embedding_dim = 300\n",
    "hidden_dim = 256\n",
    "sequence_len = longest_num_tokens + 2\n",
    "output_dim = 2\n",
    "print_every = 400\n",
    "batch_size = 32\n",
    "qkv_dim = 200\n",
    "heads = 10"
   ]
  },
  {
   "cell_type": "code",
   "execution_count": null,
   "id": "4c287ef4",
   "metadata": {},
   "outputs": [],
   "source": []
  },
  {
   "cell_type": "code",
   "execution_count": null,
   "id": "360a908a",
   "metadata": {},
   "outputs": [],
   "source": []
  },
  {
   "cell_type": "code",
   "execution_count": 97,
   "id": "e2f4a58e",
   "metadata": {},
   "outputs": [],
   "source": [
    "mini_trains = DataLoader(train_tensor, batch_size=batch_size)\n",
    "mini_train_labels = DataLoader(training_labels, batch_size=batch_size)\n",
    "\n",
    "mini_vals = DataLoader(val_tensor, batch_size=batch_size)\n",
    "mini_val_labels = DataLoader(val_labels, batch_size=batch_size)"
   ]
  },
  {
   "cell_type": "code",
   "execution_count": 98,
   "id": "abc86b98",
   "metadata": {},
   "outputs": [
    {
     "name": "stdout",
     "output_type": "stream",
     "text": [
      "torch.Size([32, 202])\n",
      "torch.Size([32])\n"
     ]
    }
   ],
   "source": [
    "iterator = iter(mini_trains)\n",
    "print(next(iterator).shape)\n",
    "\n",
    "iterator = iter(mini_train_labels)\n",
    "print(next(iterator).shape)"
   ]
  },
  {
   "cell_type": "code",
   "execution_count": null,
   "id": "b48aa9c3",
   "metadata": {},
   "outputs": [],
   "source": []
  },
  {
   "cell_type": "code",
   "execution_count": 141,
   "id": "25666d93",
   "metadata": {},
   "outputs": [],
   "source": [
    "class MyModel(nn.Module):\n",
    "  def __init__(self, vocab_size, embedding_dim, hidden_dim, output_dim):\n",
    "    super().__init__()\n",
    "    self.embedding_layer = nn.Embedding(vocab_size, embedding_dim)\n",
    "    self.lstm = nn.LSTM(embedding_dim, hidden_dim, batch_first=True)\n",
    "    self.fc = nn.Linear(hidden_dim, output_dim)\n",
    "  def forward(self, x):\n",
    "    # N x 252\n",
    "    embedded_data = self.embedding_layer(x) # x = [1, 122344, 1234, 11000, 78,.....0]\n",
    "    # N x 300 x 252\n",
    "    output, (h_n, c_n) = self.lstm(embedded_data)\n",
    "    out = output[:, -1, :] # h_n.squeeze()\n",
    "    out = nn.functional.dropout(out)\n",
    "    out = self.fc(out)\n",
    "    return out"
   ]
  },
  {
   "cell_type": "code",
   "execution_count": 142,
   "id": "288138a0",
   "metadata": {},
   "outputs": [],
   "source": [
    "model = MyModel(85965, 300, 256, 2)"
   ]
  },
  {
   "cell_type": "code",
   "execution_count": 143,
   "id": "911ab7e5",
   "metadata": {},
   "outputs": [],
   "source": [
    "mini_trains = DataLoader(train_tensor, batch_size=batch_size)\n",
    "mini_train_labels = DataLoader(training_labels, batch_size=batch_size)\n",
    "\n",
    "mini_vals = DataLoader(val_tensor, batch_size=batch_size)\n",
    "mini_val_labels = DataLoader(val_labels, batch_size=batch_size)"
   ]
  },
  {
   "cell_type": "code",
   "execution_count": 144,
   "id": "61c5839d",
   "metadata": {},
   "outputs": [
    {
     "name": "stdout",
     "output_type": "stream",
     "text": [
      "torch.Size([32, 202])\n",
      "torch.Size([32])\n"
     ]
    }
   ],
   "source": [
    "iterator = iter(mini_trains)\n",
    "print(next(iterator).shape)\n",
    "\n",
    "iterator = iter(mini_train_labels)\n",
    "print(next(iterator).shape)"
   ]
  },
  {
   "cell_type": "code",
   "execution_count": 77,
   "id": "2509ec08",
   "metadata": {},
   "outputs": [],
   "source": [
    "# Training Procedure\n",
    "def train(num_epoch, model, mini_trains, mini_train_labels, mini_vals, mini_val_labels, loss_function, optimizer):\n",
    "  for epoch in range(num_epoch):\n",
    "    num_iters = 0\n",
    "    for x, y in zip(mini_trains, mini_train_labels):\n",
    "      model.train()\n",
    "      scores = model(x)\n",
    "      loss = loss_function(scores, y)\n",
    "      optimizer.zero_grad()\n",
    "      loss.backward()\n",
    "      optimizer.step()\n",
    "        \n",
    "    \n",
    "      if num_iters % print_every == 0:\n",
    "        evaluate_predictor(model, epoch, mini_vals, mini_val_labels)\n",
    "      num_iters += 1"
   ]
  },
  {
   "cell_type": "code",
   "execution_count": 78,
   "id": "6d45fc55",
   "metadata": {},
   "outputs": [],
   "source": [
    "# Evaluate Procedure\n",
    "def evaluate_predictor(model, epoch, mini_vals, mini_val_labels):\n",
    "  model.eval()\n",
    "  with torch.no_grad():\n",
    "    acc_count = 0\n",
    "    for x, y in zip(mini_vals, mini_val_labels):\n",
    "      scores=model(x)\n",
    "      predictions=scores.max(1)[1]\n",
    "      acc = predictions.eq(y).sum().item()\n",
    "      acc_count += acc\n",
    "    print(f'Epoch[{epoch+1}] Acc: {acc_count/len(val_data)}')"
   ]
  },
  {
   "cell_type": "code",
   "execution_count": 79,
   "id": "41b6209c",
   "metadata": {},
   "outputs": [],
   "source": [
    "loss_function = torch.nn.CrossEntropyLoss()\n",
    "optimizer = optim.Adam(model.parameters(), lr=1e-3)"
   ]
  },
  {
   "cell_type": "code",
   "execution_count": null,
   "id": "76922063",
   "metadata": {},
   "outputs": [
    {
     "name": "stdout",
     "output_type": "stream",
     "text": [
      "Epoch[1] Acc: 0.2902047967491645\n",
      "Epoch[1] Acc: 0.7156549520766773\n",
      "Epoch[1] Acc: 0.7156549520766773\n",
      "Epoch[1] Acc: 0.7156843980506765\n",
      "Epoch[1] Acc: 0.7156991210376761\n",
      "Epoch[1] Acc: 0.7156549520766773\n",
      "Epoch[1] Acc: 0.7156843980506765\n",
      "Epoch[1] Acc: 0.7155077222066812\n",
      "Epoch[1] Acc: 0.7157285670116753\n"
     ]
    }
   ],
   "source": [
    "# Start training\n",
    "train(5, model, mini_trains, mini_train_labels, mini_vals, mini_val_labels, loss_function, optimizer)"
   ]
  },
  {
   "cell_type": "code",
   "execution_count": 146,
   "id": "5f8dfca5",
   "metadata": {},
   "outputs": [
    {
     "name": "stdout",
     "output_type": "stream",
     "text": [
      "Epoch[1] Acc: 0.6972070493661754\n"
     ]
    }
   ],
   "source": [
    "def train(num_epoch, model, mini_trains, mini_train_labels, mini_vals, mini_val_labels, loss_function, optimizer):\n",
    "    for epoch in range(num_epoch):\n",
    "        num_iters = 0\n",
    "        for x, y in zip(mini_trains, mini_train_labels):\n",
    "            model.train()\n",
    "            scores = model(x)\n",
    "            # Convert y to Long type\n",
    "            y = y.long()\n",
    "            loss = loss_function(scores, y)\n",
    "            optimizer.zero_grad()\n",
    "            loss.backward()\n",
    "            optimizer.step()\n",
    "            num_iters += 1\n",
    "\n",
    "        # Evaluate at the end of each epoch\n",
    "        if epoch % print_every == 0:\n",
    "            evaluate_predictor(model, epoch, mini_vals, mini_val_labels)\n",
    "\n",
    "\n",
    "\n",
    "def evaluate_predictor(model, epoch, mini_vals, mini_val_labels):\n",
    "    model.eval()\n",
    "    with torch.no_grad():\n",
    "        acc_count = 0\n",
    "        total_samples = 0\n",
    "        for x, y in zip(mini_vals, mini_val_labels):\n",
    "            scores = model(x)\n",
    "            predictions = scores.max(1)[1]\n",
    "            acc = predictions.eq(y).sum().item()\n",
    "            acc_count += acc\n",
    "            total_samples += len(y)\n",
    "\n",
    "        accuracy = acc_count / total_samples\n",
    "        print(f'Epoch[{epoch+1}] Acc: {accuracy}')\n",
    "\n",
    "\n",
    "train(5, model, mini_trains, mini_train_labels, mini_vals, mini_val_labels, loss_function, optimizer)\n"
   ]
  },
  {
   "cell_type": "code",
   "execution_count": null,
   "id": "660d7b1f",
   "metadata": {},
   "outputs": [],
   "source": []
  },
  {
   "cell_type": "code",
   "execution_count": null,
   "id": "cb6f1647",
   "metadata": {},
   "outputs": [],
   "source": []
  },
  {
   "cell_type": "code",
   "execution_count": null,
   "id": "1320b3e9",
   "metadata": {},
   "outputs": [],
   "source": []
  }
 ],
 "metadata": {
  "kernelspec": {
   "display_name": "Python 3 (ipykernel)",
   "language": "python",
   "name": "python3"
  },
  "language_info": {
   "codemirror_mode": {
    "name": "ipython",
    "version": 3
   },
   "file_extension": ".py",
   "mimetype": "text/x-python",
   "name": "python",
   "nbconvert_exporter": "python",
   "pygments_lexer": "ipython3",
   "version": "3.9.12"
  }
 },
 "nbformat": 4,
 "nbformat_minor": 5
}
