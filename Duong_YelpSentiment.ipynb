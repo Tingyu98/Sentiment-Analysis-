{
 "cells": [
  {
   "cell_type": "markdown",
   "id": "0969c6d9-fff7-4b23-9286-adc7a8119212",
   "metadata": {
    "tags": []
   },
   "source": [
    "# Yelp Sentiment Analysis"
   ]
  },
  {
   "cell_type": "markdown",
   "id": "34cbf12d-7464-4da8-a044-225c536d2869",
   "metadata": {},
   "source": [
    "## Introduction"
   ]
  },
  {
   "cell_type": "markdown",
   "id": "eae9ed5b-3972-4149-b183-c0015b23f76f",
   "metadata": {
    "tags": []
   },
   "source": [
    "#### Background\n",
    "\n",
    "Briefly introduce the importance of sentiment analysis in understanding customer opinions.\n",
    "\n",
    "Explain why Yelp reviews are valuable for businesses and consumers.\n",
    "\n",
    "Talk about data source, which dataset you plan to use, and why. Talk about implications of a limiting scope (100K data)"
   ]
  },
  {
   "cell_type": "markdown",
   "id": "5ec5b268-9f71-477e-9468-a47b2f08331e",
   "metadata": {},
   "source": [
    "#### Objectives \n",
    "\n",
    "Clearly state the goals of your sentiment analysis project on Yelp reviews.\n",
    "\n",
    "Specify positive sentiment analysis\n"
   ]
  },
  {
   "cell_type": "markdown",
   "id": "cb626f55-399b-4fbd-9b5b-846cb6a7e4a5",
   "metadata": {},
   "source": [
    "## Data Preprocessing"
   ]
  },
  {
   "cell_type": "markdown",
   "id": "8abd44d3-113a-4927-b515-cae8d42d934e",
   "metadata": {},
   "source": [
    "#### Loading packages"
   ]
  },
  {
   "cell_type": "code",
   "execution_count": 21,
   "id": "03d588c8",
   "metadata": {
    "tags": []
   },
   "outputs": [],
   "source": [
    "# Imports\n",
    "import json\n",
    "import typing\n",
    "import pandas as pd\n",
    "import numpy as np\n",
    "import matplotlib.pyplot as plt\n",
    "import nltk\n",
    "import seaborn as sns\n",
    "from nltk.tokenize import word_tokenize\n",
    "from sklearn.feature_extraction.text import TfidfVectorizer\n",
    "from sklearn.ensemble import RandomForestClassifier\n",
    "from sklearn.model_selection import train_test_split\n",
    "from sklearn.metrics import accuracy_score, classification_report"
   ]
  },
  {
   "cell_type": "markdown",
   "id": "aa41ca8c-4532-4690-a550-b0ab12e950ff",
   "metadata": {},
   "source": [
    "#### Setting work directory "
   ]
  },
  {
   "cell_type": "code",
   "execution_count": 2,
   "id": "8e1c91ca-0204-46e9-82bc-7e345c497a76",
   "metadata": {
    "tags": []
   },
   "outputs": [
    {
     "name": "stdout",
     "output_type": "stream",
     "text": [
      "Updated Working Directory: /Users/thuyduongle/DATA 5100/Yelp Dataset\n"
     ]
    }
   ],
   "source": [
    "import os\n",
    "# Set a new working directory\n",
    "new_directory = \"/Users/thuyduongle/DATA 5100/Yelp Dataset\"\n",
    "os.chdir(new_directory)\n",
    "\n",
    "# Verify the change in working directory\n",
    "updated_directory = os.getcwd()\n",
    "print(\"Updated Working Directory:\", updated_directory)"
   ]
  },
  {
   "cell_type": "markdown",
   "id": "616cb013-b985-483f-a922-6ae6da1d9405",
   "metadata": {},
   "source": [
    "#### Setting file path"
   ]
  },
  {
   "cell_type": "code",
   "execution_count": 3,
   "id": "8618c67b",
   "metadata": {
    "tags": []
   },
   "outputs": [],
   "source": [
    "# Specify the file path for the business dataset\n",
    "business_path = \"yelp_academic_dataset_business.json\"\n",
    "# Specify the file path for the review dataset\n",
    "review_path = \"yelp_academic_dataset_review.json\"\n"
   ]
  },
  {
   "cell_type": "markdown",
   "id": "3b09c1e4-878c-4a0f-9d27-8c9cb4d86fe9",
   "metadata": {},
   "source": [
    "#### Loading data"
   ]
  },
  {
   "cell_type": "code",
   "execution_count": 4,
   "id": "1cd20dea-6274-40b2-9b24-fbf9a88766b2",
   "metadata": {
    "tags": []
   },
   "outputs": [
    {
     "data": {
      "text/html": [
       "<div>\n",
       "<style scoped>\n",
       "    .dataframe tbody tr th:only-of-type {\n",
       "        vertical-align: middle;\n",
       "    }\n",
       "\n",
       "    .dataframe tbody tr th {\n",
       "        vertical-align: top;\n",
       "    }\n",
       "\n",
       "    .dataframe thead th {\n",
       "        text-align: right;\n",
       "    }\n",
       "</style>\n",
       "<table border=\"1\" class=\"dataframe\">\n",
       "  <thead>\n",
       "    <tr style=\"text-align: right;\">\n",
       "      <th></th>\n",
       "      <th>business_id</th>\n",
       "      <th>name</th>\n",
       "      <th>address</th>\n",
       "      <th>city</th>\n",
       "      <th>state</th>\n",
       "      <th>postal_code</th>\n",
       "      <th>latitude</th>\n",
       "      <th>longitude</th>\n",
       "      <th>stars</th>\n",
       "      <th>review_count</th>\n",
       "      <th>is_open</th>\n",
       "      <th>attributes</th>\n",
       "      <th>categories</th>\n",
       "      <th>hours</th>\n",
       "    </tr>\n",
       "  </thead>\n",
       "  <tbody>\n",
       "    <tr>\n",
       "      <th>0</th>\n",
       "      <td>Pns2l4eNsfO8kk83dixA6A</td>\n",
       "      <td>Abby Rappoport, LAC, CMQ</td>\n",
       "      <td>1616 Chapala St, Ste 2</td>\n",
       "      <td>Santa Barbara</td>\n",
       "      <td>CA</td>\n",
       "      <td>93101</td>\n",
       "      <td>34.426679</td>\n",
       "      <td>-119.711197</td>\n",
       "      <td>5.0</td>\n",
       "      <td>7</td>\n",
       "      <td>0</td>\n",
       "      <td>{'ByAppointmentOnly': 'True'}</td>\n",
       "      <td>Doctors, Traditional Chinese Medicine, Naturop...</td>\n",
       "      <td>None</td>\n",
       "    </tr>\n",
       "    <tr>\n",
       "      <th>1</th>\n",
       "      <td>mpf3x-BjTdTEA3yCZrAYPw</td>\n",
       "      <td>The UPS Store</td>\n",
       "      <td>87 Grasso Plaza Shopping Center</td>\n",
       "      <td>Affton</td>\n",
       "      <td>MO</td>\n",
       "      <td>63123</td>\n",
       "      <td>38.551126</td>\n",
       "      <td>-90.335695</td>\n",
       "      <td>3.0</td>\n",
       "      <td>15</td>\n",
       "      <td>1</td>\n",
       "      <td>{'BusinessAcceptsCreditCards': 'True'}</td>\n",
       "      <td>Shipping Centers, Local Services, Notaries, Ma...</td>\n",
       "      <td>{'Monday': '0:0-0:0', 'Tuesday': '8:0-18:30', ...</td>\n",
       "    </tr>\n",
       "    <tr>\n",
       "      <th>2</th>\n",
       "      <td>tUFrWirKiKi_TAnsVWINQQ</td>\n",
       "      <td>Target</td>\n",
       "      <td>5255 E Broadway Blvd</td>\n",
       "      <td>Tucson</td>\n",
       "      <td>AZ</td>\n",
       "      <td>85711</td>\n",
       "      <td>32.223236</td>\n",
       "      <td>-110.880452</td>\n",
       "      <td>3.5</td>\n",
       "      <td>22</td>\n",
       "      <td>0</td>\n",
       "      <td>{'BikeParking': 'True', 'BusinessAcceptsCredit...</td>\n",
       "      <td>Department Stores, Shopping, Fashion, Home &amp; G...</td>\n",
       "      <td>{'Monday': '8:0-22:0', 'Tuesday': '8:0-22:0', ...</td>\n",
       "    </tr>\n",
       "    <tr>\n",
       "      <th>3</th>\n",
       "      <td>MTSW4McQd7CbVtyjqoe9mw</td>\n",
       "      <td>St Honore Pastries</td>\n",
       "      <td>935 Race St</td>\n",
       "      <td>Philadelphia</td>\n",
       "      <td>PA</td>\n",
       "      <td>19107</td>\n",
       "      <td>39.955505</td>\n",
       "      <td>-75.155564</td>\n",
       "      <td>4.0</td>\n",
       "      <td>80</td>\n",
       "      <td>1</td>\n",
       "      <td>{'RestaurantsDelivery': 'False', 'OutdoorSeati...</td>\n",
       "      <td>Restaurants, Food, Bubble Tea, Coffee &amp; Tea, B...</td>\n",
       "      <td>{'Monday': '7:0-20:0', 'Tuesday': '7:0-20:0', ...</td>\n",
       "    </tr>\n",
       "    <tr>\n",
       "      <th>4</th>\n",
       "      <td>mWMc6_wTdE0EUBKIGXDVfA</td>\n",
       "      <td>Perkiomen Valley Brewery</td>\n",
       "      <td>101 Walnut St</td>\n",
       "      <td>Green Lane</td>\n",
       "      <td>PA</td>\n",
       "      <td>18054</td>\n",
       "      <td>40.338183</td>\n",
       "      <td>-75.471659</td>\n",
       "      <td>4.5</td>\n",
       "      <td>13</td>\n",
       "      <td>1</td>\n",
       "      <td>{'BusinessAcceptsCreditCards': 'True', 'Wheelc...</td>\n",
       "      <td>Brewpubs, Breweries, Food</td>\n",
       "      <td>{'Wednesday': '14:0-22:0', 'Thursday': '16:0-2...</td>\n",
       "    </tr>\n",
       "  </tbody>\n",
       "</table>\n",
       "</div>"
      ],
      "text/plain": [
       "              business_id                      name  \\\n",
       "0  Pns2l4eNsfO8kk83dixA6A  Abby Rappoport, LAC, CMQ   \n",
       "1  mpf3x-BjTdTEA3yCZrAYPw             The UPS Store   \n",
       "2  tUFrWirKiKi_TAnsVWINQQ                    Target   \n",
       "3  MTSW4McQd7CbVtyjqoe9mw        St Honore Pastries   \n",
       "4  mWMc6_wTdE0EUBKIGXDVfA  Perkiomen Valley Brewery   \n",
       "\n",
       "                           address           city state postal_code  \\\n",
       "0           1616 Chapala St, Ste 2  Santa Barbara    CA       93101   \n",
       "1  87 Grasso Plaza Shopping Center         Affton    MO       63123   \n",
       "2             5255 E Broadway Blvd         Tucson    AZ       85711   \n",
       "3                      935 Race St   Philadelphia    PA       19107   \n",
       "4                    101 Walnut St     Green Lane    PA       18054   \n",
       "\n",
       "    latitude   longitude  stars  review_count  is_open  \\\n",
       "0  34.426679 -119.711197    5.0             7        0   \n",
       "1  38.551126  -90.335695    3.0            15        1   \n",
       "2  32.223236 -110.880452    3.5            22        0   \n",
       "3  39.955505  -75.155564    4.0            80        1   \n",
       "4  40.338183  -75.471659    4.5            13        1   \n",
       "\n",
       "                                          attributes  \\\n",
       "0                      {'ByAppointmentOnly': 'True'}   \n",
       "1             {'BusinessAcceptsCreditCards': 'True'}   \n",
       "2  {'BikeParking': 'True', 'BusinessAcceptsCredit...   \n",
       "3  {'RestaurantsDelivery': 'False', 'OutdoorSeati...   \n",
       "4  {'BusinessAcceptsCreditCards': 'True', 'Wheelc...   \n",
       "\n",
       "                                          categories  \\\n",
       "0  Doctors, Traditional Chinese Medicine, Naturop...   \n",
       "1  Shipping Centers, Local Services, Notaries, Ma...   \n",
       "2  Department Stores, Shopping, Fashion, Home & G...   \n",
       "3  Restaurants, Food, Bubble Tea, Coffee & Tea, B...   \n",
       "4                          Brewpubs, Breweries, Food   \n",
       "\n",
       "                                               hours  \n",
       "0                                               None  \n",
       "1  {'Monday': '0:0-0:0', 'Tuesday': '8:0-18:30', ...  \n",
       "2  {'Monday': '8:0-22:0', 'Tuesday': '8:0-22:0', ...  \n",
       "3  {'Monday': '7:0-20:0', 'Tuesday': '7:0-20:0', ...  \n",
       "4  {'Wednesday': '14:0-22:0', 'Thursday': '16:0-2...  "
      ]
     },
     "execution_count": 4,
     "metadata": {},
     "output_type": "execute_result"
    }
   ],
   "source": [
    "# Loading the business dataset\n",
    "business = pd.read_json(business_path, lines=True, nrows=100000)\n",
    "business.head()"
   ]
  },
  {
   "cell_type": "code",
   "execution_count": 5,
   "id": "787e29d5-49d4-4d7a-8d3f-ff19485e6e30",
   "metadata": {
    "tags": []
   },
   "outputs": [
    {
     "data": {
      "text/html": [
       "<div>\n",
       "<style scoped>\n",
       "    .dataframe tbody tr th:only-of-type {\n",
       "        vertical-align: middle;\n",
       "    }\n",
       "\n",
       "    .dataframe tbody tr th {\n",
       "        vertical-align: top;\n",
       "    }\n",
       "\n",
       "    .dataframe thead th {\n",
       "        text-align: right;\n",
       "    }\n",
       "</style>\n",
       "<table border=\"1\" class=\"dataframe\">\n",
       "  <thead>\n",
       "    <tr style=\"text-align: right;\">\n",
       "      <th></th>\n",
       "      <th>business_id</th>\n",
       "      <th>name</th>\n",
       "      <th>city</th>\n",
       "      <th>state</th>\n",
       "      <th>categories</th>\n",
       "    </tr>\n",
       "  </thead>\n",
       "  <tbody>\n",
       "    <tr>\n",
       "      <th>0</th>\n",
       "      <td>Pns2l4eNsfO8kk83dixA6A</td>\n",
       "      <td>Abby Rappoport, LAC, CMQ</td>\n",
       "      <td>Santa Barbara</td>\n",
       "      <td>CA</td>\n",
       "      <td>Doctors, Traditional Chinese Medicine, Naturop...</td>\n",
       "    </tr>\n",
       "    <tr>\n",
       "      <th>1</th>\n",
       "      <td>mpf3x-BjTdTEA3yCZrAYPw</td>\n",
       "      <td>The UPS Store</td>\n",
       "      <td>Affton</td>\n",
       "      <td>MO</td>\n",
       "      <td>Shipping Centers, Local Services, Notaries, Ma...</td>\n",
       "    </tr>\n",
       "    <tr>\n",
       "      <th>2</th>\n",
       "      <td>tUFrWirKiKi_TAnsVWINQQ</td>\n",
       "      <td>Target</td>\n",
       "      <td>Tucson</td>\n",
       "      <td>AZ</td>\n",
       "      <td>Department Stores, Shopping, Fashion, Home &amp; G...</td>\n",
       "    </tr>\n",
       "    <tr>\n",
       "      <th>3</th>\n",
       "      <td>MTSW4McQd7CbVtyjqoe9mw</td>\n",
       "      <td>St Honore Pastries</td>\n",
       "      <td>Philadelphia</td>\n",
       "      <td>PA</td>\n",
       "      <td>Restaurants, Food, Bubble Tea, Coffee &amp; Tea, B...</td>\n",
       "    </tr>\n",
       "    <tr>\n",
       "      <th>4</th>\n",
       "      <td>mWMc6_wTdE0EUBKIGXDVfA</td>\n",
       "      <td>Perkiomen Valley Brewery</td>\n",
       "      <td>Green Lane</td>\n",
       "      <td>PA</td>\n",
       "      <td>Brewpubs, Breweries, Food</td>\n",
       "    </tr>\n",
       "  </tbody>\n",
       "</table>\n",
       "</div>"
      ],
      "text/plain": [
       "              business_id                      name           city state  \\\n",
       "0  Pns2l4eNsfO8kk83dixA6A  Abby Rappoport, LAC, CMQ  Santa Barbara    CA   \n",
       "1  mpf3x-BjTdTEA3yCZrAYPw             The UPS Store         Affton    MO   \n",
       "2  tUFrWirKiKi_TAnsVWINQQ                    Target         Tucson    AZ   \n",
       "3  MTSW4McQd7CbVtyjqoe9mw        St Honore Pastries   Philadelphia    PA   \n",
       "4  mWMc6_wTdE0EUBKIGXDVfA  Perkiomen Valley Brewery     Green Lane    PA   \n",
       "\n",
       "                                          categories  \n",
       "0  Doctors, Traditional Chinese Medicine, Naturop...  \n",
       "1  Shipping Centers, Local Services, Notaries, Ma...  \n",
       "2  Department Stores, Shopping, Fashion, Home & G...  \n",
       "3  Restaurants, Food, Bubble Tea, Coffee & Tea, B...  \n",
       "4                          Brewpubs, Breweries, Food  "
      ]
     },
     "execution_count": 5,
     "metadata": {},
     "output_type": "execute_result"
    }
   ],
   "source": [
    "# Specify the columns to keep\n",
    "business_keep_columns = ['business_id', 'name', 'city', 'state', 'categories']\n",
    "\n",
    "# Keep only the specified columns and drop rows with missing values\n",
    "business = business[business_keep_columns].dropna()\n",
    "business.head()"
   ]
  },
  {
   "cell_type": "code",
   "execution_count": 6,
   "id": "efd75539-0f88-49fc-84f0-206668181618",
   "metadata": {
    "tags": []
   },
   "outputs": [
    {
     "data": {
      "text/html": [
       "<div>\n",
       "<style scoped>\n",
       "    .dataframe tbody tr th:only-of-type {\n",
       "        vertical-align: middle;\n",
       "    }\n",
       "\n",
       "    .dataframe tbody tr th {\n",
       "        vertical-align: top;\n",
       "    }\n",
       "\n",
       "    .dataframe thead th {\n",
       "        text-align: right;\n",
       "    }\n",
       "</style>\n",
       "<table border=\"1\" class=\"dataframe\">\n",
       "  <thead>\n",
       "    <tr style=\"text-align: right;\">\n",
       "      <th></th>\n",
       "      <th>review_id</th>\n",
       "      <th>user_id</th>\n",
       "      <th>business_id</th>\n",
       "      <th>stars</th>\n",
       "      <th>useful</th>\n",
       "      <th>funny</th>\n",
       "      <th>cool</th>\n",
       "      <th>text</th>\n",
       "      <th>date</th>\n",
       "    </tr>\n",
       "  </thead>\n",
       "  <tbody>\n",
       "    <tr>\n",
       "      <th>0</th>\n",
       "      <td>KU_O5udG6zpxOg-VcAEodg</td>\n",
       "      <td>mh_-eMZ6K5RLWhZyISBhwA</td>\n",
       "      <td>XQfwVwDr-v0ZS3_CbbE5Xw</td>\n",
       "      <td>3</td>\n",
       "      <td>0</td>\n",
       "      <td>0</td>\n",
       "      <td>0</td>\n",
       "      <td>If you decide to eat here, just be aware it is...</td>\n",
       "      <td>2018-07-07 22:09:11</td>\n",
       "    </tr>\n",
       "    <tr>\n",
       "      <th>1</th>\n",
       "      <td>BiTunyQ73aT9WBnpR9DZGw</td>\n",
       "      <td>OyoGAe7OKpv6SyGZT5g77Q</td>\n",
       "      <td>7ATYjTIgM3jUlt4UM3IypQ</td>\n",
       "      <td>5</td>\n",
       "      <td>1</td>\n",
       "      <td>0</td>\n",
       "      <td>1</td>\n",
       "      <td>I've taken a lot of spin classes over the year...</td>\n",
       "      <td>2012-01-03 15:28:18</td>\n",
       "    </tr>\n",
       "    <tr>\n",
       "      <th>2</th>\n",
       "      <td>saUsX_uimxRlCVr67Z4Jig</td>\n",
       "      <td>8g_iMtfSiwikVnbP2etR0A</td>\n",
       "      <td>YjUWPpI6HXG530lwP-fb2A</td>\n",
       "      <td>3</td>\n",
       "      <td>0</td>\n",
       "      <td>0</td>\n",
       "      <td>0</td>\n",
       "      <td>Family diner. Had the buffet. Eclectic assortm...</td>\n",
       "      <td>2014-02-05 20:30:30</td>\n",
       "    </tr>\n",
       "    <tr>\n",
       "      <th>3</th>\n",
       "      <td>AqPFMleE6RsU23_auESxiA</td>\n",
       "      <td>_7bHUi9Uuf5__HHc_Q8guQ</td>\n",
       "      <td>kxX2SOes4o-D3ZQBkiMRfA</td>\n",
       "      <td>5</td>\n",
       "      <td>1</td>\n",
       "      <td>0</td>\n",
       "      <td>1</td>\n",
       "      <td>Wow!  Yummy, different,  delicious.   Our favo...</td>\n",
       "      <td>2015-01-04 00:01:03</td>\n",
       "    </tr>\n",
       "    <tr>\n",
       "      <th>4</th>\n",
       "      <td>Sx8TMOWLNuJBWer-0pcmoA</td>\n",
       "      <td>bcjbaE6dDog4jkNY91ncLQ</td>\n",
       "      <td>e4Vwtrqf-wpJfwesgvdgxQ</td>\n",
       "      <td>4</td>\n",
       "      <td>1</td>\n",
       "      <td>0</td>\n",
       "      <td>1</td>\n",
       "      <td>Cute interior and owner (?) gave us tour of up...</td>\n",
       "      <td>2017-01-14 20:54:15</td>\n",
       "    </tr>\n",
       "  </tbody>\n",
       "</table>\n",
       "</div>"
      ],
      "text/plain": [
       "                review_id                 user_id             business_id  \\\n",
       "0  KU_O5udG6zpxOg-VcAEodg  mh_-eMZ6K5RLWhZyISBhwA  XQfwVwDr-v0ZS3_CbbE5Xw   \n",
       "1  BiTunyQ73aT9WBnpR9DZGw  OyoGAe7OKpv6SyGZT5g77Q  7ATYjTIgM3jUlt4UM3IypQ   \n",
       "2  saUsX_uimxRlCVr67Z4Jig  8g_iMtfSiwikVnbP2etR0A  YjUWPpI6HXG530lwP-fb2A   \n",
       "3  AqPFMleE6RsU23_auESxiA  _7bHUi9Uuf5__HHc_Q8guQ  kxX2SOes4o-D3ZQBkiMRfA   \n",
       "4  Sx8TMOWLNuJBWer-0pcmoA  bcjbaE6dDog4jkNY91ncLQ  e4Vwtrqf-wpJfwesgvdgxQ   \n",
       "\n",
       "   stars  useful  funny  cool  \\\n",
       "0      3       0      0     0   \n",
       "1      5       1      0     1   \n",
       "2      3       0      0     0   \n",
       "3      5       1      0     1   \n",
       "4      4       1      0     1   \n",
       "\n",
       "                                                text                date  \n",
       "0  If you decide to eat here, just be aware it is... 2018-07-07 22:09:11  \n",
       "1  I've taken a lot of spin classes over the year... 2012-01-03 15:28:18  \n",
       "2  Family diner. Had the buffet. Eclectic assortm... 2014-02-05 20:30:30  \n",
       "3  Wow!  Yummy, different,  delicious.   Our favo... 2015-01-04 00:01:03  \n",
       "4  Cute interior and owner (?) gave us tour of up... 2017-01-14 20:54:15  "
      ]
     },
     "execution_count": 6,
     "metadata": {},
     "output_type": "execute_result"
    }
   ],
   "source": [
    "# Loading the reviews dataset\n",
    "reviews = pd.read_json(review_path, lines=True, nrows=100000)\n",
    "reviews.head()"
   ]
  },
  {
   "cell_type": "code",
   "execution_count": 7,
   "id": "e3584fd5-1efb-4daf-ab24-ea2cf1f1901f",
   "metadata": {
    "tags": []
   },
   "outputs": [
    {
     "data": {
      "text/html": [
       "<div>\n",
       "<style scoped>\n",
       "    .dataframe tbody tr th:only-of-type {\n",
       "        vertical-align: middle;\n",
       "    }\n",
       "\n",
       "    .dataframe tbody tr th {\n",
       "        vertical-align: top;\n",
       "    }\n",
       "\n",
       "    .dataframe thead th {\n",
       "        text-align: right;\n",
       "    }\n",
       "</style>\n",
       "<table border=\"1\" class=\"dataframe\">\n",
       "  <thead>\n",
       "    <tr style=\"text-align: right;\">\n",
       "      <th></th>\n",
       "      <th>business_id</th>\n",
       "      <th>stars</th>\n",
       "      <th>text</th>\n",
       "    </tr>\n",
       "  </thead>\n",
       "  <tbody>\n",
       "    <tr>\n",
       "      <th>0</th>\n",
       "      <td>XQfwVwDr-v0ZS3_CbbE5Xw</td>\n",
       "      <td>3</td>\n",
       "      <td>If you decide to eat here, just be aware it is...</td>\n",
       "    </tr>\n",
       "    <tr>\n",
       "      <th>1</th>\n",
       "      <td>7ATYjTIgM3jUlt4UM3IypQ</td>\n",
       "      <td>5</td>\n",
       "      <td>I've taken a lot of spin classes over the year...</td>\n",
       "    </tr>\n",
       "    <tr>\n",
       "      <th>2</th>\n",
       "      <td>YjUWPpI6HXG530lwP-fb2A</td>\n",
       "      <td>3</td>\n",
       "      <td>Family diner. Had the buffet. Eclectic assortm...</td>\n",
       "    </tr>\n",
       "    <tr>\n",
       "      <th>3</th>\n",
       "      <td>kxX2SOes4o-D3ZQBkiMRfA</td>\n",
       "      <td>5</td>\n",
       "      <td>Wow!  Yummy, different,  delicious.   Our favo...</td>\n",
       "    </tr>\n",
       "    <tr>\n",
       "      <th>4</th>\n",
       "      <td>e4Vwtrqf-wpJfwesgvdgxQ</td>\n",
       "      <td>4</td>\n",
       "      <td>Cute interior and owner (?) gave us tour of up...</td>\n",
       "    </tr>\n",
       "  </tbody>\n",
       "</table>\n",
       "</div>"
      ],
      "text/plain": [
       "              business_id  stars  \\\n",
       "0  XQfwVwDr-v0ZS3_CbbE5Xw      3   \n",
       "1  7ATYjTIgM3jUlt4UM3IypQ      5   \n",
       "2  YjUWPpI6HXG530lwP-fb2A      3   \n",
       "3  kxX2SOes4o-D3ZQBkiMRfA      5   \n",
       "4  e4Vwtrqf-wpJfwesgvdgxQ      4   \n",
       "\n",
       "                                                text  \n",
       "0  If you decide to eat here, just be aware it is...  \n",
       "1  I've taken a lot of spin classes over the year...  \n",
       "2  Family diner. Had the buffet. Eclectic assortm...  \n",
       "3  Wow!  Yummy, different,  delicious.   Our favo...  \n",
       "4  Cute interior and owner (?) gave us tour of up...  "
      ]
     },
     "execution_count": 7,
     "metadata": {},
     "output_type": "execute_result"
    }
   ],
   "source": [
    "# Specify the columns to keep\n",
    "review_keep_columns = ['business_id', 'stars', 'text']\n",
    "\n",
    "# Keep only the specified columns and drop rows with missing values\n",
    "reviews = reviews[review_keep_columns].dropna()\n",
    "reviews.head()"
   ]
  },
  {
   "cell_type": "markdown",
   "id": "8c13ef39-8665-4408-8b33-9a9767bca623",
   "metadata": {},
   "source": [
    "#### Merging two datasets "
   ]
  },
  {
   "cell_type": "code",
   "execution_count": 8,
   "id": "dfc48ba6-7920-4454-83b1-f1ef6a5b6109",
   "metadata": {
    "tags": []
   },
   "outputs": [
    {
     "name": "stdout",
     "output_type": "stream",
     "text": [
      "                   business_id                      name           city state  \\\n",
      "0       Pns2l4eNsfO8kk83dixA6A  Abby Rappoport, LAC, CMQ  Santa Barbara    CA   \n",
      "1       mpf3x-BjTdTEA3yCZrAYPw             The UPS Store         Affton    MO   \n",
      "2       mpf3x-BjTdTEA3yCZrAYPw             The UPS Store         Affton    MO   \n",
      "3       mpf3x-BjTdTEA3yCZrAYPw             The UPS Store         Affton    MO   \n",
      "4       tUFrWirKiKi_TAnsVWINQQ                    Target         Tucson    AZ   \n",
      "...                        ...                       ...            ...   ...   \n",
      "189956  6bhEQ4Y3qAJuMxy1xpdJnA  Duncan Family Healthcare           Reno    NV   \n",
      "189957  ZERQMWb1PFzCfbfknqq-fA                       NaN            NaN   NaN   \n",
      "189958  9QoKKDZB_YuDeS5TxRW8bg                       NaN            NaN   NaN   \n",
      "189959  9QoKKDZB_YuDeS5TxRW8bg                       NaN            NaN   NaN   \n",
      "189960  mKxCNYEoKt6d_1rXmvRwww                       NaN            NaN   NaN   \n",
      "\n",
      "                                               categories  stars  \\\n",
      "0       Doctors, Traditional Chinese Medicine, Naturop...    5.0   \n",
      "1       Shipping Centers, Local Services, Notaries, Ma...    5.0   \n",
      "2       Shipping Centers, Local Services, Notaries, Ma...    3.0   \n",
      "3       Shipping Centers, Local Services, Notaries, Ma...    5.0   \n",
      "4       Department Stores, Shopping, Fashion, Home & G...    4.0   \n",
      "...                                                   ...    ...   \n",
      "189956  Health & Medical, Weight Loss Centers, Family ...    NaN   \n",
      "189957                                                NaN    1.0   \n",
      "189958                                                NaN    1.0   \n",
      "189959                                                NaN    1.0   \n",
      "189960                                                NaN    4.0   \n",
      "\n",
      "                                                     text  \n",
      "0       I've had acupuncture treatments with Abby over...  \n",
      "1       I have a po box there and ea. visit I am greet...  \n",
      "2       Bottom Line:  \\nClean store, Quick Service, Go...  \n",
      "3       I went in to ship a package to my friend for h...  \n",
      "4       We are fans of Target.  They seem to have a li...  \n",
      "...                                                   ...  \n",
      "189956                                                NaN  \n",
      "189957  Garbage. I ordered a TV from pilot on December...  \n",
      "189958  If I could I would give a 0 star rating. I jus...  \n",
      "189959  One of the draws was a free photo of my newbor...  \n",
      "189960  I have been using GE going on my 4th season. S...  \n",
      "\n",
      "[189961 rows x 7 columns]\n"
     ]
    }
   ],
   "source": [
    "# business_id is the common key \n",
    "# Perform an outer join\n",
    "df = business.merge(reviews, on='business_id', how='outer')\n",
    "\n",
    "# Display the resulting DataFrame\n",
    "print(df)"
   ]
  },
  {
   "cell_type": "markdown",
   "id": "d0aed0b8-8072-47f9-932d-9bd93c3fa105",
   "metadata": {},
   "source": [
    "#### Filtering the data"
   ]
  },
  {
   "cell_type": "markdown",
   "id": "76d58ac9-93d5-4417-9e50-b99dad6a97bc",
   "metadata": {
    "tags": []
   },
   "source": [
    "##### Filtering for restaurants"
   ]
  },
  {
   "cell_type": "code",
   "execution_count": 13,
   "id": "5eb1c345-62c4-4c4f-ad88-1cc1d0023dc1",
   "metadata": {
    "tags": []
   },
   "outputs": [],
   "source": [
    "# Filtering for restaurants\n",
    "df = df[df['categories'].str.contains('Restaurant', case=False, na=False)]"
   ]
  },
  {
   "cell_type": "markdown",
   "id": "e494abd5-240c-4345-a1ab-21ea77e84033",
   "metadata": {},
   "source": [
    "##### Filtering NA values "
   ]
  },
  {
   "cell_type": "code",
   "execution_count": 12,
   "id": "7d4caf67-ac47-42a2-baf4-300a231f6d43",
   "metadata": {
    "tags": []
   },
   "outputs": [],
   "source": [
    "# Filtering NA values where there isn't a review\n",
    "df = df.dropna(subset=['text'])"
   ]
  },
  {
   "cell_type": "markdown",
   "id": "958ee8df-a839-429c-a9a1-d107260dba43",
   "metadata": {
    "tags": []
   },
   "source": [
    "## Exploratory Data Analysis "
   ]
  },
  {
   "cell_type": "code",
   "execution_count": 15,
   "id": "d5dab12f-230f-4b86-8018-160c695a9c80",
   "metadata": {
    "tags": []
   },
   "outputs": [
    {
     "name": "stdout",
     "output_type": "stream",
     "text": [
      "<class 'pandas.core.frame.DataFrame'>\n",
      "Index: 72125 entries, 6 to 105049\n",
      "Data columns (total 7 columns):\n",
      " #   Column       Non-Null Count  Dtype  \n",
      "---  ------       --------------  -----  \n",
      " 0   business_id  72125 non-null  object \n",
      " 1   name         72125 non-null  object \n",
      " 2   city         72125 non-null  object \n",
      " 3   state        72125 non-null  object \n",
      " 4   categories   72125 non-null  object \n",
      " 5   stars        72125 non-null  float64\n",
      " 6   text         72125 non-null  object \n",
      "dtypes: float64(1), object(6)\n",
      "memory usage: 4.4+ MB\n"
     ]
    }
   ],
   "source": [
    "df.info()"
   ]
  },
  {
   "cell_type": "code",
   "execution_count": 18,
   "id": "db847de7-49be-4425-a722-a172b7c05900",
   "metadata": {
    "tags": []
   },
   "outputs": [
    {
     "name": "stdout",
     "output_type": "stream",
     "text": [
      "Review Length Statistics:\n",
      "count    72125.000000\n",
      "mean       537.317241\n",
      "std        496.437899\n",
      "min          3.000000\n",
      "25%        218.000000\n",
      "50%        382.000000\n",
      "75%        679.000000\n",
      "max       5000.000000\n",
      "Name: text, dtype: float64\n"
     ]
    },
    {
     "data": {
      "image/png": "[encoded data removed]",
      "text/plain": [
       "<Figure size 1000x600 with 1 Axes>"
      ]
     },
     "metadata": {},
     "output_type": "display_data"
    }
   ],
   "source": [
    "review_length = df['text'].apply(len)\n",
    "\n",
    "# Display statistics about review lengths\n",
    "print(\"Review Length Statistics:\")\n",
    "print(review_length.describe())\n",
    "\n",
    "# Create a histogram to visualize the distribution of review lengths\n",
    "plt.figure(figsize=(10, 6))\n",
    "plt.hist(review_length, bins=50, color='skyblue', edgecolor='black')\n",
    "plt.title('Distribution of Review Lengths')\n",
    "plt.xlabel('Review Length')\n",
    "plt.ylabel('Number of Reviews')\n",
    "plt.show()\n"
   ]
  },
  {
   "cell_type": "code",
   "execution_count": 22,
   "id": "242d8c01-964a-4a9a-bb1c-1765252765ed",
   "metadata": {
    "tags": []
   },
   "outputs": [
    {
     "data": {
      "image/png": "[encoded data removed]",
      "text/plain": [
       "<Figure size 800x500 with 1 Axes>"
      ]
     },
     "metadata": {},
     "output_type": "display_data"
    }
   ],
   "source": [
    "# Distribution of Stars\n",
    "plt.figure(figsize=(8, 5))\n",
    "sns.countplot(x='stars', data=df, palette='viridis')\n",
    "plt.title('Distribution of Star Ratings')\n",
    "plt.xlabel('Star Rating')\n",
    "plt.ylabel('Count')\n",
    "plt.show()"
   ]
  },
  {
   "cell_type": "code",
   "execution_count": 36,
   "id": "2cec8839-165c-4de2-91d1-32b4c748bd20",
   "metadata": {
    "tags": []
   },
   "outputs": [
    {
     "name": "stdout",
     "output_type": "stream",
     "text": [
      "Top States with the Highest Number of 5-Star Reviews:\n",
      "state\n",
      "PA    7167\n",
      "FL    4792\n",
      "LA    4334\n",
      "TN    2971\n",
      "MO    2251\n",
      "Name: count, dtype: int64\n"
     ]
    },
    {
     "data": {
      "image/png": "[encoded data removed]",
      "text/plain": [
       "<Figure size 640x480 with 1 Axes>"
      ]
     },
     "metadata": {},
     "output_type": "display_data"
    }
   ],
   "source": [
    "# Assuming your DataFrame is named 'df'\n",
    "# Filter 5-star reviews\n",
    "five_star_reviews = df[df['stars'] == 5]\n",
    "\n",
    "# Count the number of 5-star reviews by state\n",
    "top_states_5_star_reviews = five_star_reviews['state'].value_counts().head(5)\n",
    "\n",
    "print(\"Top States with the Highest Number of 5-Star Reviews:\")\n",
    "print(top_states_5_star_reviews)\n",
    "\n",
    "# Plot the bar chart\n",
    "top_states_5_star_reviews.plot(kind='bar', color='skyblue')\n",
    "plt.title('Top States with the Highest Number of 5-Star Reviews')\n",
    "plt.xlabel('State')\n",
    "plt.ylabel('Number of 5-Star Reviews')\n",
    "plt.show()"
   ]
  },
  {
   "cell_type": "markdown",
   "id": "8c10d92b-7592-4374-b16d-bd2b1081a4e3",
   "metadata": {
    "tags": []
   },
   "source": [
    "## Sentiment Analysis Model"
   ]
  },
  {
   "cell_type": "markdown",
   "id": "85af39b4-a109-4590-a62a-867ca8cac5f9",
   "metadata": {},
   "source": [
    "### Random Forest\n",
    "\n",
    "Brief discussion on model, why we've chosen it"
   ]
  },
  {
   "cell_type": "markdown",
   "id": "5234d151-56ab-46c5-86bf-658e3becd4c3",
   "metadata": {},
   "source": [
    "##### Step 1: Data Preprocessing\n",
    "\n",
    "Creating binary sentiment labels based on the stars column. If the star rating is 4 or above, we consider it a positive sentiment (1). Otherwise, it's negative (0)"
   ]
  },
  {
   "cell_type": "code",
   "execution_count": 26,
   "id": "524fc84a-0c72-44fd-9d68-45504452f28b",
   "metadata": {
    "tags": []
   },
   "outputs": [],
   "source": [
    "# Create binary sentiment labels (positive=1, negative=0)\n",
    "df['sentiment'] = (df['stars'] >= 4).astype(int)"
   ]
  },
  {
   "cell_type": "markdown",
   "id": "6f5b19b3-b412-4053-a130-3d1772fb07e8",
   "metadata": {
    "tags": []
   },
   "source": [
    "##### Step 2: Train-Test Split"
   ]
  },
  {
   "cell_type": "code",
   "execution_count": 27,
   "id": "2b172fd1-4241-4d34-93de-9da3c9ae2c02",
   "metadata": {
    "tags": []
   },
   "outputs": [],
   "source": [
    "# Split the data into training and testing sets\n",
    "X_train, X_test, y_train, y_test = train_test_split(df['text'], df['sentiment'], test_size=0.2, random_state=42)"
   ]
  },
  {
   "cell_type": "markdown",
   "id": "a84f0cdc-a8ae-4c6d-b761-0749d17ec2ea",
   "metadata": {},
   "source": [
    "##### Step 3: Text Vectorization (TF-IDF)\n",
    "\n",
    "We use the TF-IDF vectorizer to convert the text data into numerical features. TF-IDF represents the importance of each word in the context of the entire dataset. \n",
    "\n",
    "max_features, or the number of words to consider, is currently set at 5000. This is adjustable based on our need. "
   ]
  },
  {
   "cell_type": "code",
   "execution_count": 28,
   "id": "c8c64f27-46e6-49fe-ace5-5ba4d0eb5ba1",
   "metadata": {
    "tags": []
   },
   "outputs": [],
   "source": [
    "# Create TF-IDF vectorizer\n",
    "tfidf_vectorizer = TfidfVectorizer(max_features=5000)  \n",
    "\n",
    "# Transform the training and testing text data\n",
    "X_train_tfidf = tfidf_vectorizer.fit_transform(X_train)\n",
    "X_test_tfidf = tfidf_vectorizer.transform(X_test)"
   ]
  },
  {
   "cell_type": "markdown",
   "id": "fe74e0a1-59c2-48a2-8594-49b684152f73",
   "metadata": {},
   "source": [
    "##### Step 4: Model Creation and Training (Random Forest Classifier)\n",
    "\n",
    "We create a random forest classifier with 100 decision trees."
   ]
  },
  {
   "cell_type": "code",
   "execution_count": 29,
   "id": "1094161b-9ba1-4156-9d57-625ba8d32f1b",
   "metadata": {
    "tags": []
   },
   "outputs": [
    {
     "data": {
      "text/html": [
       "<style>#sk-container-id-1 {color: black;}#sk-container-id-1 pre{padding: 0;}#sk-container-id-1 div.sk-toggleable {background-color: white;}#sk-container-id-1 label.sk-toggleable__label {cursor: pointer;display: block;width: 100%;margin-bottom: 0;padding: 0.3em;box-sizing: border-box;text-align: center;}#sk-container-id-1 label.sk-toggleable__label-arrow:before {content: \"▸\";float: left;margin-right: 0.25em;color: #696969;}#sk-container-id-1 label.sk-toggleable__label-arrow:hover:before {color: black;}#sk-container-id-1 div.sk-estimator:hover label.sk-toggleable__label-arrow:before {color: black;}#sk-container-id-1 div.sk-toggleable__content {max-height: 0;max-width: 0;overflow: hidden;text-align: left;background-color: #f0f8ff;}#sk-container-id-1 div.sk-toggleable__content pre {margin: 0.2em;color: black;border-radius: 0.25em;background-color: #f0f8ff;}#sk-container-id-1 input.sk-toggleable__control:checked~div.sk-toggleable__content {max-height: 200px;max-width: 100%;overflow: auto;}#sk-container-id-1 input.sk-toggleable__control:checked~label.sk-toggleable__label-arrow:before {content: \"▾\";}#sk-container-id-1 div.sk-estimator input.sk-toggleable__control:checked~label.sk-toggleable__label {background-color: #d4ebff;}#sk-container-id-1 div.sk-label input.sk-toggleable__control:checked~label.sk-toggleable__label {background-color: #d4ebff;}#sk-container-id-1 input.sk-hidden--visually {border: 0;clip: rect(1px 1px 1px 1px);clip: rect(1px, 1px, 1px, 1px);height: 1px;margin: -1px;overflow: hidden;padding: 0;position: absolute;width: 1px;}#sk-container-id-1 div.sk-estimator {font-family: monospace;background-color: #f0f8ff;border: 1px dotted black;border-radius: 0.25em;box-sizing: border-box;margin-bottom: 0.5em;}#sk-container-id-1 div.sk-estimator:hover {background-color: #d4ebff;}#sk-container-id-1 div.sk-parallel-item::after {content: \"\";width: 100%;border-bottom: 1px solid gray;flex-grow: 1;}#sk-container-id-1 div.sk-label:hover label.sk-toggleable__label {background-color: #d4ebff;}#sk-container-id-1 div.sk-serial::before {content: \"\";position: absolute;border-left: 1px solid gray;box-sizing: border-box;top: 0;bottom: 0;left: 50%;z-index: 0;}#sk-container-id-1 div.sk-serial {display: flex;flex-direction: column;align-items: center;background-color: white;padding-right: 0.2em;padding-left: 0.2em;position: relative;}#sk-container-id-1 div.sk-item {position: relative;z-index: 1;}#sk-container-id-1 div.sk-parallel {display: flex;align-items: stretch;justify-content: center;background-color: white;position: relative;}#sk-container-id-1 div.sk-item::before, #sk-container-id-1 div.sk-parallel-item::before {content: \"\";position: absolute;border-left: 1px solid gray;box-sizing: border-box;top: 0;bottom: 0;left: 50%;z-index: -1;}#sk-container-id-1 div.sk-parallel-item {display: flex;flex-direction: column;z-index: 1;position: relative;background-color: white;}#sk-container-id-1 div.sk-parallel-item:first-child::after {align-self: flex-end;width: 50%;}#sk-container-id-1 div.sk-parallel-item:last-child::after {align-self: flex-start;width: 50%;}#sk-container-id-1 div.sk-parallel-item:only-child::after {width: 0;}#sk-container-id-1 div.sk-dashed-wrapped {border: 1px dashed gray;margin: 0 0.4em 0.5em 0.4em;box-sizing: border-box;padding-bottom: 0.4em;background-color: white;}#sk-container-id-1 div.sk-label label {font-family: monospace;font-weight: bold;display: inline-block;line-height: 1.2em;}#sk-container-id-1 div.sk-label-container {text-align: center;}#sk-container-id-1 div.sk-container {/* jupyter's `normalize.less` sets `[hidden] { display: none; }` but bootstrap.min.css set `[hidden] { display: none !important; }` so we also need the `!important` here to be able to override the default hidden behavior on the sphinx rendered scikit-learn.org. See: https://github.com/scikit-learn/scikit-learn/issues/21755 */display: inline-block !important;position: relative;}#sk-container-id-1 div.sk-text-repr-fallback {display: none;}</style><div id=\"sk-container-id-1\" class=\"sk-top-container\"><div class=\"sk-text-repr-fallback\"><pre>RandomForestClassifier(random_state=42)</pre><b>In a Jupyter environment, please rerun this cell to show the HTML representation or trust the notebook. <br />On GitHub, the HTML representation is unable to render, please try loading this page with nbviewer.org.</b></div><div class=\"sk-container\" hidden><div class=\"sk-item\"><div class=\"sk-estimator sk-toggleable\"><input class=\"sk-toggleable__control sk-hidden--visually\" id=\"sk-estimator-id-1\" type=\"checkbox\" checked><label for=\"sk-estimator-id-1\" class=\"sk-toggleable__label sk-toggleable__label-arrow\">RandomForestClassifier</label><div class=\"sk-toggleable__content\"><pre>RandomForestClassifier(random_state=42)</pre></div></div></div></div></div>"
      ],
      "text/plain": [
       "RandomForestClassifier(random_state=42)"
      ]
     },
     "execution_count": 29,
     "metadata": {},
     "output_type": "execute_result"
    }
   ],
   "source": [
    "# Create and train a random forest classifier\n",
    "rf_classifier = RandomForestClassifier(n_estimators=100, random_state=42)\n",
    "rf_classifier.fit(X_train_tfidf, y_train)"
   ]
  },
  {
   "cell_type": "markdown",
   "id": "19801493-5866-46e4-8354-7014f0cb3f27",
   "metadata": {},
   "source": [
    "##### Step 5: Model Prediction and Evaluation"
   ]
  },
  {
   "cell_type": "code",
   "execution_count": 30,
   "id": "f17fe093-12ce-405f-87eb-b7b3f9f5de7c",
   "metadata": {
    "tags": []
   },
   "outputs": [
    {
     "name": "stdout",
     "output_type": "stream",
     "text": [
      "Accuracy: 0.87\n",
      "Classification Report:\n",
      "              precision    recall  f1-score   support\n",
      "\n",
      "           0       0.89      0.66      0.76      4467\n",
      "           1       0.86      0.97      0.91      9958\n",
      "\n",
      "    accuracy                           0.87     14425\n",
      "   macro avg       0.88      0.81      0.83     14425\n",
      "weighted avg       0.87      0.87      0.86     14425\n",
      "\n"
     ]
    }
   ],
   "source": [
    "# Make predictions on the testing set\n",
    "predictions = rf_classifier.predict(X_test_tfidf)\n",
    "\n",
    "# Evaluate the model\n",
    "accuracy = accuracy_score(y_test, predictions)\n",
    "print(f\"Accuracy: {accuracy:.2f}\")\n",
    "\n",
    "# Display classification report\n",
    "print(\"Classification Report:\")\n",
    "print(classification_report(y_test, predictions))"
   ]
  },
  {
   "cell_type": "markdown",
   "id": "9c09d135-e201-4b08-98ee-ed98785e41cb",
   "metadata": {},
   "source": [
    "##### Step 6: Feature Importance\n",
    "\n",
    "Random forests provide feature importances, indicating the contribution of each feature (word) to the model's predictions. We extract and print the top words indicative of exceptional restaurants based on their feature importances. "
   ]
  },
  {
   "cell_type": "code",
   "execution_count": 31,
   "id": "f9df56a0-04f3-4ecd-90af-a058fd0c9e95",
   "metadata": {
    "tags": []
   },
   "outputs": [
    {
     "name": "stdout",
     "output_type": "stream",
     "text": [
      "Top Words Indicative of Exceptional Restaurants:\n",
      "not          0.020856\n",
      "great        0.017582\n",
      "delicious    0.013036\n",
      "ok           0.009758\n",
      "amazing      0.009505\n",
      "worst        0.008990\n",
      "but          0.008415\n",
      "no           0.008256\n",
      "was          0.008211\n",
      "and          0.008143\n",
      "dtype: float64\n"
     ]
    }
   ],
   "source": [
    "# Feature importances (words indicative of exceptional restaurants)\n",
    "feature_importances = pd.Series(rf_classifier.feature_importances_, index=tfidf_vectorizer.get_feature_names_out())\n",
    "top_words_indicative_of_exceptional = feature_importances.sort_values(ascending=False).head(10)\n",
    "print(\"Top Words Indicative of Exceptional Restaurants:\")\n",
    "print(top_words_indicative_of_exceptional)\n"
   ]
  },
  {
   "cell_type": "markdown",
   "id": "025516f1-76cb-40ef-8bb2-9ce216f57f60",
   "metadata": {},
   "source": [
    "## Summary of Findings"
   ]
  },
  {
   "cell_type": "code",
   "execution_count": null,
   "id": "af734133-f01b-4675-a50f-dca52e1d61b0",
   "metadata": {},
   "outputs": [],
   "source": []
  },
  {
   "cell_type": "markdown",
   "id": "6b2e6c21-96a9-4468-857f-573ad596abc8",
   "metadata": {},
   "source": [
    "\n",
    "2.2 Data Exploration\n",
    "Display some exploratory data analysis (EDA) visualizations to give an overview of the dataset.\n",
    "Highlight any interesting patterns or trends observed during the exploration.\n",
    "3. Preprocessing:\n",
    "3.1 Text Cleaning\n",
    "Discuss the steps taken to clean and preprocess the text data (e.g., removing stopwords, punctuation, stemming/lemmatization).\n",
    "3.2 Feature Extraction\n",
    "Explain the methods used to convert the text data into numerical features (e.g., TF-IDF, word embeddings).\n",
    "4. Sentiment Analysis Model:\n",
    "4.1 Model Selection\n",
    "Choose a sentiment analysis model suitable for your task (e.g., machine learning, deep learning).\n",
    "Provide a brief rationale for your choice.\n",
    "4.2 Training\n",
    "Describe the training process, including the splitting of the dataset into training and validation sets.\n",
    "Present key metrics used to evaluate the model's performance during training.\n",
    "5. Results:\n",
    "5.1 Evaluation Metrics\n",
    "Report the evaluation metrics used to assess the model's performance (e.g., accuracy, precision, recall, F1-score).\n",
    "5.2 Model Performance\n",
    "Present the overall performance of your sentiment analysis model on the test dataset.\n",
    "Include any insights gained from analyzing misclassifications.\n",
    "5.3 Visualizations\n",
    "Use visualizations (e.g., confusion matrix, ROC curve) to enhance the understanding of your model's performance.\n",
    "6. Conclusion:\n",
    "6.1 Summary\n",
    "Summarize the main findings and results of your sentiment analysis project.\n",
    "6.2 Limitations\n",
    "Discuss any limitations of your approach and potential areas for improvement.\n",
    "6.3 Future Work\n",
    "Suggest possible directions for future research or enhancements to the sentiment analysis model.\n",
    "7. References:\n",
    "Include citations for any datasets, libraries, or algorithms used in your project.\n",
    "Remember to adjust the details based on the specifics of your project and the depth of analysis you plan to undertake. Good luck with your sentiment analysis project!"
   ]
  }
 ],
 "metadata": {
  "kernelspec": {
   "display_name": "Python 3 (ipykernel)",
   "language": "python",
   "name": "python3"
  },
  "language_info": {
   "codemirror_mode": {
    "name": "ipython",
    "version": 3
   },
   "file_extension": ".py",
   "mimetype": "text/x-python",
   "name": "python",
   "nbconvert_exporter": "python",
   "pygments_lexer": "ipython3",
   "version": "3.11.5"
  }
 },
 "nbformat": 4,
 "nbformat_minor": 5
}
